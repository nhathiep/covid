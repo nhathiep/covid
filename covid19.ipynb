{
 "cells": [
  {
   "cell_type": "code",
   "execution_count": 1,
   "metadata": {
    "_cell_guid": "b1076dfc-b9ad-4769-8c92-a6c4dae69d19",
    "_kg_hide-input": true,
    "_kg_hide-output": true,
    "_uuid": "8f2839f25d086af736a60e9eeb907d3b93b6e0e5",
    "slideshow": {
     "slide_type": "skip"
    }
   },
   "outputs": [],
   "source": [
    "import os\n",
    "import numpy as np \n",
    "\n",
    "import pandas as pd \n",
    "import random\n",
    "import math\n",
    "import time\n",
    "from sklearn.linear_model import LinearRegression, BayesianRidge\n",
    "from sklearn.model_selection import RandomizedSearchCV, train_test_split\n",
    "from sklearn.preprocessing import PolynomialFeatures\n",
    "from sklearn.svm import SVR\n",
    "from sklearn.metrics import mean_squared_error, mean_absolute_error\n",
    "import datetime as dt\n",
    "import operator \n",
    "\n",
    "import matplotlib.pyplot as plt \n",
    "import matplotlib.colors as mcolors\n",
    "%matplotlib inline"
   ]
  },
  {
   "cell_type": "code",
   "execution_count": 2,
   "metadata": {
    "slideshow": {
     "slide_type": "skip"
    }
   },
   "outputs": [
    {
     "data": {
      "text/plain": [
       "'/Users/nhathiep/Python_Projects/Covid/covid19.ipynb'"
      ]
     },
     "execution_count": 2,
     "metadata": {},
     "output_type": "execute_result"
    }
   ],
   "source": [
    "pth = os.getcwd()\n",
    "f = 'covid19.ipynb'\n",
    "os.path.join(pth,f)"
   ]
  },
  {
   "cell_type": "code",
   "execution_count": 3,
   "metadata": {
    "slideshow": {
     "slide_type": "skip"
    }
   },
   "outputs": [
    {
     "data": {
      "text/plain": [
       "'/Users/nhathiep/Python_Projects/Covid/Assets'"
      ]
     },
     "execution_count": 3,
     "metadata": {},
     "output_type": "execute_result"
    }
   ],
   "source": [
    "#where the static assets/ images are saved\n",
    "dimgf = 'Assets/Displayed'\n",
    "imgf = 'Assets'\n",
    "os.path.join(pth,imgf)"
   ]
  },
  {
   "cell_type": "markdown",
   "metadata": {
    "slideshow": {
     "slide_type": "slide"
    }
   },
   "source": [
    "<div> <img src=\"Assets/covid_spikes.jpg\" width=\"100\" align ='left' alt=\"alt_text\"> </div> \n",
    "\n",
    "## Coronavirus (COVID-19)  \n",
    "<br>\n",
    "<br>"
   ]
  },
  {
   "cell_type": "code",
   "execution_count": 4,
   "metadata": {
    "slideshow": {
     "slide_type": "-"
    }
   },
   "outputs": [
    {
     "name": "stdout",
     "output_type": "stream",
     "text": [
      "Updated on 19-January-2022\n"
     ]
    }
   ],
   "source": [
    "print(f'Updated on {dt.datetime.today().strftime(\"%d-%B-%Y\")}')"
   ]
  },
  {
   "cell_type": "markdown",
   "metadata": {
    "slideshow": {
     "slide_type": "-"
    }
   },
   "source": [
    "<br>\n",
    "<br>\n",
    "<u><b>Datasets:</b></u>  <br>\n",
    "- <b><font color='red'>Confirmed cases</font></b>, raw data <a href=https://raw.githubusercontent.com/CSSEGISandData/COVID-19/master/csse_covid_19_data/csse_covid_19_time_series/time_series_covid19_confirmed_global.csv> here </a>\n",
    "and <b><font color='red'>Latest cases</font></b>, raw data <a href =https://raw.githubusercontent.com/CSSEGISandData/COVID-19/master/csse_covid_19_data/csse_covid_19_daily_reports/01-02-2021.csv> here </a><br>\n",
    "- <b><font color='red'> Covid19 open data</font></b>: comprehensive data inc. vaccinations, hospitalisations. \n",
    "See <a href =https://github.com/GoogleCloudPlatform/covid-19-open-data#aggregated-table> here </a>\n",
    "\n",
    "<u><b>Sources:</b></u>  <br>\n",
    "- <a href='https://github.com/CSSEGISandData/COVID-19'>Johns Hopkins University</a>. Field definition: [Link here](https://github.com/CSSEGISandData/COVID-19/tree/master/csse_covid_19_data)\n",
    "- <a href='https://open-covid-19.github.io/explorer/#main-table'> Covid19 Open data </a> and associated <a href='https://github.com/GoogleCloudPlatform/covid-19-open-data#covid-19-open-data'>Github</a> by Googlecloud\n",
    "- <a href='https://www.data.gouv.fr/fr/datasets/indicateurs-de-lactivite-epidemique-taux-dincidence-de-lepidemie-de-covid-19-par-metropole/#resources'> Santé publique France </a> - French National Health Agency\n",
    "\n",
    "<u><b>Data processing:</b></u> automation, data wrangling, exportable to Excel"
   ]
  },
  {
   "cell_type": "markdown",
   "metadata": {
    "slideshow": {
     "slide_type": "skip"
    }
   },
   "source": [
    "# Coronavirus (COVID-19, as SARS-CoV-2)\n",
    "\n",
    "   Coronavirus Case Data is provided by <a href='https://github.com/CSSEGISandData/COVID-19'>Johns Hopkins University</a>\n",
    "   <br>Mobility data is provided by <a href='https://www.apple.com/covid19/mobility'>Apple</a>\n",
    "   <br>Learn more from the <a href='https://www.who.int/emergencies/diseases/novel-coronavirus-2019'>World Health Organization</a>\n",
    "   <br>Learn more from the <a href='https://www.cdc.gov/coronavirus/2019-ncov'>Centers for Disease Control and Prevention</a>\n",
    "   <br>Check out map visualizations from  <a href='https://gisanddata.maps.arcgis.com/apps/opsdashboard/index.html#/bda7594740fd40299423467b48e9ecf6'>JHU CCSE Dashboard</a>\n",
    "   <br>Source code is on <a href='https://github.com/therealcyberlord'>my Github</a>\n",
    "  \n",
    "   \n",
    "   <font face = \"Verdana\" size =\"3\">\n",
    "   Feel free to provide me with feedbacks. \n",
    "       <br> Last update: 1/3/2021 6:39 PM ET. Updates to the data table. \n",
    "       <br> New Updates: Daily report data update for 1/3. time series data update for 1/2. Mobility data update for 1/2. \n",
    "   </font>\n",
    "       <br>\n",
    "   <font face = \"Verdana\" size =\"3\"> *Prediction models are trained from a later starting date (3/13/2020). Therefore, earlier dates might not be accurate. </font>\n",
    "   <font face = \"Verdana\" size =\"1\">\n",
    "    </font>\n",
    " <font face = \"Verdana\" size =\"3\"> Keep strong, world. We can get through this! </font>\n",
    "   <font face = \"Verdana\" size = \"3\"> Thank you guys for all the support. </font>\n",
    "<br>\n",
    "<font face = \"Verdana\" size =\"3\"> Sections </font>\n",
    "* <a href='#world_wide_graphs'>Exploring Global Coronavirus Cases</a>\n",
    "* <a href='#country_graphs'>Exploring Coronavirus Cases From Different Countries</a>\n",
    "* <a href='#prediction'>Worldwide Confirmed Cases Prediction</a>\n",
    "* <a href='#data_table'>Data Table</a>\n",
    "* <a href='#pie_charts'>Pie Charts</a>\n",
    "* <a href='#bar_charts'>Bar Charts</a>\n",
    "* <a href='#hospital_testing'>US Testing Data</a>\n",
    "* <a href='#mobility_data'>Mobility Data for Hotspots</a>"
   ]
  },
  {
   "cell_type": "code",
   "execution_count": 5,
   "metadata": {
    "_cell_guid": "",
    "_kg_hide-input": true,
    "_kg_hide-output": true,
    "_uuid": "",
    "slideshow": {
     "slide_type": "skip"
    }
   },
   "outputs": [],
   "source": [
    "#Global Data - All countries time-series\n",
    "confirmed_df = pd.read_csv('https://raw.githubusercontent.com/CSSEGISandData/COVID-19/master/csse_covid_19_data/csse_covid_19_time_series/time_series_covid19_confirmed_global.csv')\n",
    "deaths_df = pd.read_csv('https://raw.githubusercontent.com/CSSEGISandData/COVID-19/master/csse_covid_19_data/csse_covid_19_time_series/time_series_covid19_deaths_global.csv')\n",
    "recoveries_df = pd.read_csv('https://raw.githubusercontent.com/CSSEGISandData/COVID-19/master/csse_covid_19_data/csse_covid_19_time_series/time_series_covid19_recovered_global.csv')\n",
    "#Daily reports on 2n Jan - for Global and US\n",
    "latest_data = pd.read_csv('https://raw.githubusercontent.com/CSSEGISandData/COVID-19/master/csse_covid_19_data/csse_covid_19_daily_reports/01-02-2021.csv')\n",
    "us_medical_data = pd.read_csv('https://raw.githubusercontent.com/CSSEGISandData/COVID-19/master/csse_covid_19_data/csse_covid_19_daily_reports_us/01-02-2021.csv')\n",
    "#Apple Data\n",
    "#apple_mobility = pd.read_csv('https://covid19-static.cdn-apple.com/covid19-mobility-data/2023HotfixDev27/v3/en-us/applemobilitytrends-2021-01-02.csv')"
   ]
  },
  {
   "cell_type": "code",
   "execution_count": 6,
   "metadata": {
    "slideshow": {
     "slide_type": "skip"
    }
   },
   "outputs": [],
   "source": [
    " def timestamp():\n",
    "    \"\"\"\n",
    "    returns the timestamp of now as a string\n",
    "    \"\"\"\n",
    "    return dt.datetime.today().strftime(\"%Y-%m-%d %H-%M-%S\")"
   ]
  },
  {
   "cell_type": "code",
   "execution_count": 7,
   "metadata": {
    "slideshow": {
     "slide_type": "skip"
    }
   },
   "outputs": [
    {
     "name": "stdout",
     "output_type": "stream",
     "text": [
      "01-19-2022  is not available\n"
     ]
    }
   ],
   "source": [
    "#Looking for the most recent files for Latest Y& US_medical\n",
    "count = 0\n",
    "while count < 10:\n",
    "    try: \n",
    "        datefile = dt.datetime.today()- dt.timedelta(days= count)\n",
    "        datetext = datefile.strftime(\"%m-%d-%Y\")\n",
    "        latest_data = pd.read_csv(f'https://raw.githubusercontent.com/CSSEGISandData/COVID-19/master/csse_covid_19_data/csse_covid_19_daily_reports/{datetext}.csv')\n",
    "        us_medical_data = pd.read_csv(f'https://raw.githubusercontent.com/CSSEGISandData/COVID-19/master/csse_covid_19_data/csse_covid_19_daily_reports_us/{datetext}.csv')     \n",
    "        break\n",
    "    except:\n",
    "        count += 1\n",
    "        print(datetext, ' is not available')            \n",
    "    "
   ]
  },
  {
   "cell_type": "code",
   "execution_count": 8,
   "metadata": {
    "_kg_hide-input": true,
    "_kg_hide-output": true,
    "slideshow": {
     "slide_type": "skip"
    }
   },
   "outputs": [
    {
     "data": {
      "text/html": [
       "<div>\n",
       "<style scoped>\n",
       "    .dataframe tbody tr th:only-of-type {\n",
       "        vertical-align: middle;\n",
       "    }\n",
       "\n",
       "    .dataframe tbody tr th {\n",
       "        vertical-align: top;\n",
       "    }\n",
       "\n",
       "    .dataframe thead th {\n",
       "        text-align: right;\n",
       "    }\n",
       "</style>\n",
       "<table border=\"1\" class=\"dataframe\">\n",
       "  <thead>\n",
       "    <tr style=\"text-align: right;\">\n",
       "      <th></th>\n",
       "      <th>FIPS</th>\n",
       "      <th>Admin2</th>\n",
       "      <th>Province_State</th>\n",
       "      <th>Country_Region</th>\n",
       "      <th>Last_Update</th>\n",
       "      <th>Lat</th>\n",
       "      <th>Long_</th>\n",
       "      <th>Confirmed</th>\n",
       "      <th>Deaths</th>\n",
       "      <th>Recovered</th>\n",
       "      <th>Active</th>\n",
       "      <th>Combined_Key</th>\n",
       "      <th>Incident_Rate</th>\n",
       "      <th>Case_Fatality_Ratio</th>\n",
       "    </tr>\n",
       "  </thead>\n",
       "  <tbody>\n",
       "    <tr>\n",
       "      <th>0</th>\n",
       "      <td>NaN</td>\n",
       "      <td>NaN</td>\n",
       "      <td>NaN</td>\n",
       "      <td>Afghanistan</td>\n",
       "      <td>2022-01-19 04:21:23</td>\n",
       "      <td>33.93911</td>\n",
       "      <td>67.709953</td>\n",
       "      <td>158974</td>\n",
       "      <td>7383</td>\n",
       "      <td>NaN</td>\n",
       "      <td>NaN</td>\n",
       "      <td>Afghanistan</td>\n",
       "      <td>408.375995</td>\n",
       "      <td>4.644156</td>\n",
       "    </tr>\n",
       "    <tr>\n",
       "      <th>1</th>\n",
       "      <td>NaN</td>\n",
       "      <td>NaN</td>\n",
       "      <td>NaN</td>\n",
       "      <td>Albania</td>\n",
       "      <td>2022-01-19 04:21:23</td>\n",
       "      <td>41.15330</td>\n",
       "      <td>20.168300</td>\n",
       "      <td>236486</td>\n",
       "      <td>3277</td>\n",
       "      <td>NaN</td>\n",
       "      <td>NaN</td>\n",
       "      <td>Albania</td>\n",
       "      <td>8217.596775</td>\n",
       "      <td>1.385706</td>\n",
       "    </tr>\n",
       "    <tr>\n",
       "      <th>2</th>\n",
       "      <td>NaN</td>\n",
       "      <td>NaN</td>\n",
       "      <td>NaN</td>\n",
       "      <td>Algeria</td>\n",
       "      <td>2022-01-19 04:21:23</td>\n",
       "      <td>28.03390</td>\n",
       "      <td>1.659600</td>\n",
       "      <td>227559</td>\n",
       "      <td>6435</td>\n",
       "      <td>NaN</td>\n",
       "      <td>NaN</td>\n",
       "      <td>Algeria</td>\n",
       "      <td>518.936345</td>\n",
       "      <td>2.827838</td>\n",
       "    </tr>\n",
       "    <tr>\n",
       "      <th>3</th>\n",
       "      <td>NaN</td>\n",
       "      <td>NaN</td>\n",
       "      <td>NaN</td>\n",
       "      <td>Andorra</td>\n",
       "      <td>2022-01-19 04:21:23</td>\n",
       "      <td>42.50630</td>\n",
       "      <td>1.521800</td>\n",
       "      <td>29888</td>\n",
       "      <td>142</td>\n",
       "      <td>NaN</td>\n",
       "      <td>NaN</td>\n",
       "      <td>Andorra</td>\n",
       "      <td>38682.456481</td>\n",
       "      <td>0.475107</td>\n",
       "    </tr>\n",
       "    <tr>\n",
       "      <th>4</th>\n",
       "      <td>NaN</td>\n",
       "      <td>NaN</td>\n",
       "      <td>NaN</td>\n",
       "      <td>Angola</td>\n",
       "      <td>2022-01-19 04:21:23</td>\n",
       "      <td>-11.20270</td>\n",
       "      <td>17.873900</td>\n",
       "      <td>94275</td>\n",
       "      <td>1870</td>\n",
       "      <td>NaN</td>\n",
       "      <td>NaN</td>\n",
       "      <td>Angola</td>\n",
       "      <td>286.844250</td>\n",
       "      <td>1.983559</td>\n",
       "    </tr>\n",
       "  </tbody>\n",
       "</table>\n",
       "</div>"
      ],
      "text/plain": [
       "   FIPS Admin2 Province_State Country_Region          Last_Update       Lat  \\\n",
       "0   NaN    NaN            NaN    Afghanistan  2022-01-19 04:21:23  33.93911   \n",
       "1   NaN    NaN            NaN        Albania  2022-01-19 04:21:23  41.15330   \n",
       "2   NaN    NaN            NaN        Algeria  2022-01-19 04:21:23  28.03390   \n",
       "3   NaN    NaN            NaN        Andorra  2022-01-19 04:21:23  42.50630   \n",
       "4   NaN    NaN            NaN         Angola  2022-01-19 04:21:23 -11.20270   \n",
       "\n",
       "       Long_  Confirmed  Deaths  Recovered  Active Combined_Key  \\\n",
       "0  67.709953     158974    7383        NaN     NaN  Afghanistan   \n",
       "1  20.168300     236486    3277        NaN     NaN      Albania   \n",
       "2   1.659600     227559    6435        NaN     NaN      Algeria   \n",
       "3   1.521800      29888     142        NaN     NaN      Andorra   \n",
       "4  17.873900      94275    1870        NaN     NaN       Angola   \n",
       "\n",
       "   Incident_Rate  Case_Fatality_Ratio  \n",
       "0     408.375995             4.644156  \n",
       "1    8217.596775             1.385706  \n",
       "2     518.936345             2.827838  \n",
       "3   38682.456481             0.475107  \n",
       "4     286.844250             1.983559  "
      ]
     },
     "execution_count": 8,
     "metadata": {},
     "output_type": "execute_result"
    }
   ],
   "source": [
    "latest_data.head()"
   ]
  },
  {
   "cell_type": "code",
   "execution_count": 9,
   "metadata": {
    "slideshow": {
     "slide_type": "skip"
    }
   },
   "outputs": [
    {
     "data": {
      "text/plain": [
       "FIPS                   float64\n",
       "Admin2                  object\n",
       "Province_State          object\n",
       "Country_Region          object\n",
       "Last_Update             object\n",
       "Lat                    float64\n",
       "Long_                  float64\n",
       "Confirmed                int64\n",
       "Deaths                   int64\n",
       "Recovered              float64\n",
       "Active                 float64\n",
       "Combined_Key            object\n",
       "Incident_Rate          float64\n",
       "Case_Fatality_Ratio    float64\n",
       "dtype: object"
      ]
     },
     "execution_count": 9,
     "metadata": {},
     "output_type": "execute_result"
    }
   ],
   "source": [
    "latest_data.dtypes"
   ]
  },
  {
   "cell_type": "code",
   "execution_count": 10,
   "metadata": {
    "slideshow": {
     "slide_type": "skip"
    }
   },
   "outputs": [
    {
     "name": "stdout",
     "output_type": "stream",
     "text": [
      "8,118,000 inhabitants in NSW\n"
     ]
    }
   ],
   "source": [
    "#Underlying population for New South Wales\n",
    "#Incidence rate is cases per 100,000 persons\n",
    "latest_data.set_index('Province_State',inplace=True)\n",
    "incidence_rate = latest_data.loc['New South Wales']['Incident_Rate']/100000\n",
    "NSW_pop = latest_data.loc['New South Wales']['Confirmed'] / incidence_rate\n",
    "print(f'{NSW_pop:,.0f} inhabitants in NSW') # the comma means to display with thousand separator and '.0f' means no decimal "
   ]
  },
  {
   "cell_type": "code",
   "execution_count": 11,
   "metadata": {
    "slideshow": {
     "slide_type": "skip"
    }
   },
   "outputs": [
    {
     "name": "stdout",
     "output_type": "stream",
     "text": [
      "0.109965% \n",
      "Calculated Fatality ratio is equal to Downloaded Fatality ratio: \u001b[1m True\n"
     ]
    }
   ],
   "source": [
    "#Checking the fatality rate\n",
    "#definition: https://www.cdc.gov/csels/dsepd/ss1978/lesson3/section3.html\n",
    "#Fatality rate is deaths per 100 persons (%)\n",
    "NSW_deaths = latest_data.loc['New South Wales']['Deaths'] \n",
    "NSW_confirmed = latest_data.loc['New South Wales']['Confirmed'] \n",
    "NSW_CaseFatalityRatio = NSW_deaths/NSW_confirmed\n",
    "print(f'{NSW_CaseFatalityRatio:0%} ')\n",
    "\n",
    "#Check it is the same number as table\n",
    "#Multiply by 100 to convert into percent and check with 14 decimals accuracy using round(number,14)\n",
    "check = round(NSW_CaseFatalityRatio*100, 14) == round(latest_data.loc['New South Wales']['Case_Fatality_Ratio'],14)\n",
    "#print(latest_data.loc['New South Wales']['Case_Fatality_Ratio'] )\n",
    "#print(round(NSW_CaseFatalityRatio*100,14) )\n",
    "\n",
    "print (f'Calculated Fatality ratio is equal to Downloaded Fatality ratio: \\033[1m {check}') #To print in Bold \\033[1m"
   ]
  },
  {
   "cell_type": "code",
   "execution_count": 12,
   "metadata": {
    "_kg_hide-input": true,
    "_kg_hide-output": true,
    "slideshow": {
     "slide_type": "skip"
    }
   },
   "outputs": [
    {
     "data": {
      "text/html": [
       "<div>\n",
       "<style scoped>\n",
       "    .dataframe tbody tr th:only-of-type {\n",
       "        vertical-align: middle;\n",
       "    }\n",
       "\n",
       "    .dataframe tbody tr th {\n",
       "        vertical-align: top;\n",
       "    }\n",
       "\n",
       "    .dataframe thead th {\n",
       "        text-align: right;\n",
       "    }\n",
       "</style>\n",
       "<table border=\"1\" class=\"dataframe\">\n",
       "  <thead>\n",
       "    <tr style=\"text-align: right;\">\n",
       "      <th></th>\n",
       "      <th>Province/State</th>\n",
       "      <th>Country/Region</th>\n",
       "      <th>Lat</th>\n",
       "      <th>Long</th>\n",
       "      <th>1/22/20</th>\n",
       "      <th>1/23/20</th>\n",
       "      <th>1/24/20</th>\n",
       "      <th>1/25/20</th>\n",
       "      <th>1/26/20</th>\n",
       "      <th>1/27/20</th>\n",
       "      <th>...</th>\n",
       "      <th>1/9/22</th>\n",
       "      <th>1/10/22</th>\n",
       "      <th>1/11/22</th>\n",
       "      <th>1/12/22</th>\n",
       "      <th>1/13/22</th>\n",
       "      <th>1/14/22</th>\n",
       "      <th>1/15/22</th>\n",
       "      <th>1/16/22</th>\n",
       "      <th>1/17/22</th>\n",
       "      <th>1/18/22</th>\n",
       "    </tr>\n",
       "  </thead>\n",
       "  <tbody>\n",
       "    <tr>\n",
       "      <th>9</th>\n",
       "      <td>New South Wales</td>\n",
       "      <td>Australia</td>\n",
       "      <td>-33.8688</td>\n",
       "      <td>151.2093</td>\n",
       "      <td>0</td>\n",
       "      <td>0</td>\n",
       "      <td>0</td>\n",
       "      <td>0</td>\n",
       "      <td>3</td>\n",
       "      <td>4</td>\n",
       "      <td>...</td>\n",
       "      <td>475731</td>\n",
       "      <td>501389</td>\n",
       "      <td>536025</td>\n",
       "      <td>628289</td>\n",
       "      <td>690758</td>\n",
       "      <td>738891</td>\n",
       "      <td>773447</td>\n",
       "      <td>802690</td>\n",
       "      <td>832520</td>\n",
       "      <td>864817</td>\n",
       "    </tr>\n",
       "  </tbody>\n",
       "</table>\n",
       "<p>1 rows × 732 columns</p>\n",
       "</div>"
      ],
      "text/plain": [
       "    Province/State Country/Region      Lat      Long  1/22/20  1/23/20  \\\n",
       "9  New South Wales      Australia -33.8688  151.2093        0        0   \n",
       "\n",
       "   1/24/20  1/25/20  1/26/20  1/27/20  ...  1/9/22  1/10/22  1/11/22  1/12/22  \\\n",
       "9        0        0        3        4  ...  475731   501389   536025   628289   \n",
       "\n",
       "   1/13/22  1/14/22  1/15/22  1/16/22  1/17/22  1/18/22  \n",
       "9   690758   738891   773447   802690   832520   864817  \n",
       "\n",
       "[1 rows x 732 columns]"
      ]
     },
     "execution_count": 12,
     "metadata": {},
     "output_type": "execute_result"
    }
   ],
   "source": [
    "#confirmed cases\n",
    "confirmed_df[confirmed_df['Province/State']=='New South Wales']"
   ]
  },
  {
   "cell_type": "markdown",
   "metadata": {
    "slideshow": {
     "slide_type": "slide"
    }
   },
   "source": [
    "# Latest Data (John Hopkins) - what the data Looks like"
   ]
  },
  {
   "cell_type": "code",
   "execution_count": 13,
   "metadata": {
    "slideshow": {
     "slide_type": "-"
    }
   },
   "outputs": [
    {
     "data": {
      "text/html": [
       "<div>\n",
       "<style scoped>\n",
       "    .dataframe tbody tr th:only-of-type {\n",
       "        vertical-align: middle;\n",
       "    }\n",
       "\n",
       "    .dataframe tbody tr th {\n",
       "        vertical-align: top;\n",
       "    }\n",
       "\n",
       "    .dataframe thead th {\n",
       "        text-align: right;\n",
       "    }\n",
       "</style>\n",
       "<table border=\"1\" class=\"dataframe\">\n",
       "  <thead>\n",
       "    <tr style=\"text-align: right;\">\n",
       "      <th></th>\n",
       "      <th>FIPS</th>\n",
       "      <th>Admin2</th>\n",
       "      <th>Country_Region</th>\n",
       "      <th>Last_Update</th>\n",
       "      <th>Lat</th>\n",
       "      <th>Long_</th>\n",
       "      <th>Confirmed</th>\n",
       "      <th>Deaths</th>\n",
       "      <th>Recovered</th>\n",
       "      <th>Active</th>\n",
       "      <th>Combined_Key</th>\n",
       "      <th>Incident_Rate</th>\n",
       "      <th>Case_Fatality_Ratio</th>\n",
       "    </tr>\n",
       "    <tr>\n",
       "      <th>Province_State</th>\n",
       "      <th></th>\n",
       "      <th></th>\n",
       "      <th></th>\n",
       "      <th></th>\n",
       "      <th></th>\n",
       "      <th></th>\n",
       "      <th></th>\n",
       "      <th></th>\n",
       "      <th></th>\n",
       "      <th></th>\n",
       "      <th></th>\n",
       "      <th></th>\n",
       "      <th></th>\n",
       "    </tr>\n",
       "  </thead>\n",
       "  <tbody>\n",
       "    <tr>\n",
       "      <th>Australian Capital Territory</th>\n",
       "      <td>NaN</td>\n",
       "      <td>NaN</td>\n",
       "      <td>Australia</td>\n",
       "      <td>2022-01-19 04:21:23</td>\n",
       "      <td>-35.4735</td>\n",
       "      <td>149.0124</td>\n",
       "      <td>27618</td>\n",
       "      <td>20</td>\n",
       "      <td>NaN</td>\n",
       "      <td>NaN</td>\n",
       "      <td>Australian Capital Territory, Australia</td>\n",
       "      <td>6451.296426</td>\n",
       "      <td>0.072417</td>\n",
       "    </tr>\n",
       "    <tr>\n",
       "      <th>New South Wales</th>\n",
       "      <td>NaN</td>\n",
       "      <td>NaN</td>\n",
       "      <td>Australia</td>\n",
       "      <td>2022-01-19 04:21:23</td>\n",
       "      <td>-33.8688</td>\n",
       "      <td>151.2093</td>\n",
       "      <td>864817</td>\n",
       "      <td>951</td>\n",
       "      <td>NaN</td>\n",
       "      <td>NaN</td>\n",
       "      <td>New South Wales, Australia</td>\n",
       "      <td>10653.079576</td>\n",
       "      <td>0.109965</td>\n",
       "    </tr>\n",
       "    <tr>\n",
       "      <th>Northern Territory</th>\n",
       "      <td>NaN</td>\n",
       "      <td>NaN</td>\n",
       "      <td>Australia</td>\n",
       "      <td>2022-01-19 04:21:23</td>\n",
       "      <td>-12.4634</td>\n",
       "      <td>130.8456</td>\n",
       "      <td>7318</td>\n",
       "      <td>2</td>\n",
       "      <td>NaN</td>\n",
       "      <td>NaN</td>\n",
       "      <td>Northern Territory, Australia</td>\n",
       "      <td>2979.641694</td>\n",
       "      <td>0.027330</td>\n",
       "    </tr>\n",
       "    <tr>\n",
       "      <th>Queensland</th>\n",
       "      <td>NaN</td>\n",
       "      <td>NaN</td>\n",
       "      <td>Australia</td>\n",
       "      <td>2022-01-19 04:21:23</td>\n",
       "      <td>-27.4698</td>\n",
       "      <td>153.0251</td>\n",
       "      <td>265565</td>\n",
       "      <td>63</td>\n",
       "      <td>NaN</td>\n",
       "      <td>NaN</td>\n",
       "      <td>Queensland, Australia</td>\n",
       "      <td>5191.379142</td>\n",
       "      <td>0.023723</td>\n",
       "    </tr>\n",
       "    <tr>\n",
       "      <th>South Australia</th>\n",
       "      <td>NaN</td>\n",
       "      <td>NaN</td>\n",
       "      <td>Australia</td>\n",
       "      <td>2022-01-19 04:21:23</td>\n",
       "      <td>-34.9285</td>\n",
       "      <td>138.6007</td>\n",
       "      <td>81783</td>\n",
       "      <td>50</td>\n",
       "      <td>NaN</td>\n",
       "      <td>NaN</td>\n",
       "      <td>South Australia, Australia</td>\n",
       "      <td>4656.020495</td>\n",
       "      <td>0.061137</td>\n",
       "    </tr>\n",
       "    <tr>\n",
       "      <th>Tasmania</th>\n",
       "      <td>NaN</td>\n",
       "      <td>NaN</td>\n",
       "      <td>Australia</td>\n",
       "      <td>2022-01-19 04:21:23</td>\n",
       "      <td>-42.8821</td>\n",
       "      <td>147.3272</td>\n",
       "      <td>21546</td>\n",
       "      <td>13</td>\n",
       "      <td>NaN</td>\n",
       "      <td>NaN</td>\n",
       "      <td>Tasmania, Australia</td>\n",
       "      <td>4023.529412</td>\n",
       "      <td>0.060336</td>\n",
       "    </tr>\n",
       "    <tr>\n",
       "      <th>Victoria</th>\n",
       "      <td>NaN</td>\n",
       "      <td>NaN</td>\n",
       "      <td>Australia</td>\n",
       "      <td>2022-01-19 04:21:23</td>\n",
       "      <td>-37.8136</td>\n",
       "      <td>144.9631</td>\n",
       "      <td>685007</td>\n",
       "      <td>1735</td>\n",
       "      <td>NaN</td>\n",
       "      <td>NaN</td>\n",
       "      <td>Victoria, Australia</td>\n",
       "      <td>10332.086457</td>\n",
       "      <td>0.253282</td>\n",
       "    </tr>\n",
       "    <tr>\n",
       "      <th>Western Australia</th>\n",
       "      <td>NaN</td>\n",
       "      <td>NaN</td>\n",
       "      <td>Australia</td>\n",
       "      <td>2022-01-19 04:21:23</td>\n",
       "      <td>-31.9505</td>\n",
       "      <td>115.8605</td>\n",
       "      <td>1323</td>\n",
       "      <td>9</td>\n",
       "      <td>NaN</td>\n",
       "      <td>NaN</td>\n",
       "      <td>Western Australia, Australia</td>\n",
       "      <td>50.292709</td>\n",
       "      <td>0.680272</td>\n",
       "    </tr>\n",
       "  </tbody>\n",
       "</table>\n",
       "</div>"
      ],
      "text/plain": [
       "                              FIPS Admin2 Country_Region          Last_Update  \\\n",
       "Province_State                                                                  \n",
       "Australian Capital Territory   NaN    NaN      Australia  2022-01-19 04:21:23   \n",
       "New South Wales                NaN    NaN      Australia  2022-01-19 04:21:23   \n",
       "Northern Territory             NaN    NaN      Australia  2022-01-19 04:21:23   \n",
       "Queensland                     NaN    NaN      Australia  2022-01-19 04:21:23   \n",
       "South Australia                NaN    NaN      Australia  2022-01-19 04:21:23   \n",
       "Tasmania                       NaN    NaN      Australia  2022-01-19 04:21:23   \n",
       "Victoria                       NaN    NaN      Australia  2022-01-19 04:21:23   \n",
       "Western Australia              NaN    NaN      Australia  2022-01-19 04:21:23   \n",
       "\n",
       "                                  Lat     Long_  Confirmed  Deaths  Recovered  \\\n",
       "Province_State                                                                  \n",
       "Australian Capital Territory -35.4735  149.0124      27618      20        NaN   \n",
       "New South Wales              -33.8688  151.2093     864817     951        NaN   \n",
       "Northern Territory           -12.4634  130.8456       7318       2        NaN   \n",
       "Queensland                   -27.4698  153.0251     265565      63        NaN   \n",
       "South Australia              -34.9285  138.6007      81783      50        NaN   \n",
       "Tasmania                     -42.8821  147.3272      21546      13        NaN   \n",
       "Victoria                     -37.8136  144.9631     685007    1735        NaN   \n",
       "Western Australia            -31.9505  115.8605       1323       9        NaN   \n",
       "\n",
       "                              Active                             Combined_Key  \\\n",
       "Province_State                                                                  \n",
       "Australian Capital Territory     NaN  Australian Capital Territory, Australia   \n",
       "New South Wales                  NaN               New South Wales, Australia   \n",
       "Northern Territory               NaN            Northern Territory, Australia   \n",
       "Queensland                       NaN                    Queensland, Australia   \n",
       "South Australia                  NaN               South Australia, Australia   \n",
       "Tasmania                         NaN                      Tasmania, Australia   \n",
       "Victoria                         NaN                      Victoria, Australia   \n",
       "Western Australia                NaN             Western Australia, Australia   \n",
       "\n",
       "                              Incident_Rate  Case_Fatality_Ratio  \n",
       "Province_State                                                    \n",
       "Australian Capital Territory    6451.296426             0.072417  \n",
       "New South Wales                10653.079576             0.109965  \n",
       "Northern Territory              2979.641694             0.027330  \n",
       "Queensland                      5191.379142             0.023723  \n",
       "South Australia                 4656.020495             0.061137  \n",
       "Tasmania                        4023.529412             0.060336  \n",
       "Victoria                       10332.086457             0.253282  \n",
       "Western Australia                 50.292709             0.680272  "
      ]
     },
     "execution_count": 13,
     "metadata": {},
     "output_type": "execute_result"
    }
   ],
   "source": [
    "latest_data[latest_data.Country_Region =='Australia']"
   ]
  },
  {
   "cell_type": "markdown",
   "metadata": {
    "slideshow": {
     "slide_type": "fragment"
    }
   },
   "source": [
    "Field definition: [Link here](https://github.com/CSSEGISandData/COVID-19/tree/master/csse_covid_19_data)  \n",
    "**Note**: \"Confirmed\" is the latest cumulative case count"
   ]
  },
  {
   "cell_type": "code",
   "execution_count": 14,
   "metadata": {
    "slideshow": {
     "slide_type": "skip"
    }
   },
   "outputs": [
    {
     "data": {
      "text/html": [
       "<div>\n",
       "<style scoped>\n",
       "    .dataframe tbody tr th:only-of-type {\n",
       "        vertical-align: middle;\n",
       "    }\n",
       "\n",
       "    .dataframe tbody tr th {\n",
       "        vertical-align: top;\n",
       "    }\n",
       "\n",
       "    .dataframe thead th {\n",
       "        text-align: right;\n",
       "    }\n",
       "</style>\n",
       "<table border=\"1\" class=\"dataframe\">\n",
       "  <thead>\n",
       "    <tr style=\"text-align: right;\">\n",
       "      <th></th>\n",
       "      <th>Province_State</th>\n",
       "      <th>FIPS</th>\n",
       "      <th>Admin2</th>\n",
       "      <th>Country_Region</th>\n",
       "      <th>Last_Update</th>\n",
       "      <th>Lat</th>\n",
       "      <th>Long_</th>\n",
       "      <th>Confirmed</th>\n",
       "      <th>Deaths</th>\n",
       "      <th>Recovered</th>\n",
       "      <th>Active</th>\n",
       "      <th>Combined_Key</th>\n",
       "      <th>Incident_Rate</th>\n",
       "      <th>Case_Fatality_Ratio</th>\n",
       "    </tr>\n",
       "  </thead>\n",
       "  <tbody>\n",
       "    <tr>\n",
       "      <th>9</th>\n",
       "      <td>New South Wales</td>\n",
       "      <td>NaN</td>\n",
       "      <td>NaN</td>\n",
       "      <td>Australia</td>\n",
       "      <td>2022-01-19 04:21:23</td>\n",
       "      <td>-33.8688</td>\n",
       "      <td>151.2093</td>\n",
       "      <td>864817</td>\n",
       "      <td>951</td>\n",
       "      <td>NaN</td>\n",
       "      <td>NaN</td>\n",
       "      <td>New South Wales, Australia</td>\n",
       "      <td>10653.079576</td>\n",
       "      <td>0.109965</td>\n",
       "    </tr>\n",
       "  </tbody>\n",
       "</table>\n",
       "</div>"
      ],
      "text/plain": [
       "    Province_State  FIPS Admin2 Country_Region          Last_Update      Lat  \\\n",
       "9  New South Wales   NaN    NaN      Australia  2022-01-19 04:21:23 -33.8688   \n",
       "\n",
       "      Long_  Confirmed  Deaths  Recovered  Active                Combined_Key  \\\n",
       "9  151.2093     864817     951        NaN     NaN  New South Wales, Australia   \n",
       "\n",
       "   Incident_Rate  Case_Fatality_Ratio  \n",
       "9   10653.079576             0.109965  "
      ]
     },
     "execution_count": 14,
     "metadata": {},
     "output_type": "execute_result"
    }
   ],
   "source": [
    "#Focusing on NSW\n",
    "latest_data.reset_index(inplace=True)\n",
    "latest_data[latest_data.Province_State =='New South Wales']"
   ]
  },
  {
   "cell_type": "markdown",
   "metadata": {
    "slideshow": {
     "slide_type": "skip"
    }
   },
   "source": [
    "# Ranking of countries"
   ]
  },
  {
   "cell_type": "code",
   "execution_count": 15,
   "metadata": {
    "slideshow": {
     "slide_type": "skip"
    }
   },
   "outputs": [],
   "source": [
    "latest_data['Population'] = latest_data['Confirmed']/(latest_data['Incident_Rate']/100000)\n",
    "#latest_data['Incidence'] = (latest_data['Population']/100000)*(latest_data['Incident_Rate'])"
   ]
  },
  {
   "cell_type": "markdown",
   "metadata": {
    "slideshow": {
     "slide_type": "skip"
    }
   },
   "source": [
    "# Latest Data - total by country (summing all provinces/states)"
   ]
  },
  {
   "cell_type": "code",
   "execution_count": 16,
   "metadata": {
    "slideshow": {
     "slide_type": "skip"
    }
   },
   "outputs": [
    {
     "data": {
      "text/html": [
       "<div>\n",
       "<style scoped>\n",
       "    .dataframe tbody tr th:only-of-type {\n",
       "        vertical-align: middle;\n",
       "    }\n",
       "\n",
       "    .dataframe tbody tr th {\n",
       "        vertical-align: top;\n",
       "    }\n",
       "\n",
       "    .dataframe thead th {\n",
       "        text-align: right;\n",
       "    }\n",
       "</style>\n",
       "<table border=\"1\" class=\"dataframe\">\n",
       "  <thead>\n",
       "    <tr style=\"text-align: right;\">\n",
       "      <th></th>\n",
       "      <th>Population</th>\n",
       "      <th>Confirmed</th>\n",
       "      <th>Deaths</th>\n",
       "      <th>Recovered</th>\n",
       "      <th>Active</th>\n",
       "    </tr>\n",
       "    <tr>\n",
       "      <th>Country_Region</th>\n",
       "      <th></th>\n",
       "      <th></th>\n",
       "      <th></th>\n",
       "      <th></th>\n",
       "      <th></th>\n",
       "    </tr>\n",
       "  </thead>\n",
       "  <tbody>\n",
       "    <tr>\n",
       "      <th>China</th>\n",
       "      <td>1.404676e+09</td>\n",
       "      <td>118297</td>\n",
       "      <td>4849</td>\n",
       "      <td>0.0</td>\n",
       "      <td>0.0</td>\n",
       "    </tr>\n",
       "    <tr>\n",
       "      <th>India</th>\n",
       "      <td>1.371337e+09</td>\n",
       "      <td>37901241</td>\n",
       "      <td>487202</td>\n",
       "      <td>0.0</td>\n",
       "      <td>0.0</td>\n",
       "    </tr>\n",
       "    <tr>\n",
       "      <th>US</th>\n",
       "      <td>3.323046e+08</td>\n",
       "      <td>67589830</td>\n",
       "      <td>853955</td>\n",
       "      <td>0.0</td>\n",
       "      <td>0.0</td>\n",
       "    </tr>\n",
       "    <tr>\n",
       "      <th>Indonesia</th>\n",
       "      <td>2.735236e+08</td>\n",
       "      <td>4273783</td>\n",
       "      <td>144183</td>\n",
       "      <td>0.0</td>\n",
       "      <td>0.0</td>\n",
       "    </tr>\n",
       "    <tr>\n",
       "      <th>Brazil</th>\n",
       "      <td>2.101471e+08</td>\n",
       "      <td>23229851</td>\n",
       "      <td>621803</td>\n",
       "      <td>0.0</td>\n",
       "      <td>0.0</td>\n",
       "    </tr>\n",
       "    <tr>\n",
       "      <th>Pakistan</th>\n",
       "      <td>2.078318e+08</td>\n",
       "      <td>1338993</td>\n",
       "      <td>29037</td>\n",
       "      <td>0.0</td>\n",
       "      <td>0.0</td>\n",
       "    </tr>\n",
       "    <tr>\n",
       "      <th>Nigeria</th>\n",
       "      <td>2.061396e+08</td>\n",
       "      <td>251341</td>\n",
       "      <td>3116</td>\n",
       "      <td>0.0</td>\n",
       "      <td>0.0</td>\n",
       "    </tr>\n",
       "    <tr>\n",
       "      <th>Bangladesh</th>\n",
       "      <td>1.646894e+08</td>\n",
       "      <td>1632794</td>\n",
       "      <td>28164</td>\n",
       "      <td>0.0</td>\n",
       "      <td>0.0</td>\n",
       "    </tr>\n",
       "    <tr>\n",
       "      <th>Russia</th>\n",
       "      <td>1.466447e+08</td>\n",
       "      <td>10682826</td>\n",
       "      <td>316168</td>\n",
       "      <td>0.0</td>\n",
       "      <td>0.0</td>\n",
       "    </tr>\n",
       "    <tr>\n",
       "      <th>Mexico</th>\n",
       "      <td>1.277923e+08</td>\n",
       "      <td>4385415</td>\n",
       "      <td>301469</td>\n",
       "      <td>0.0</td>\n",
       "      <td>0.0</td>\n",
       "    </tr>\n",
       "    <tr>\n",
       "      <th>Japan</th>\n",
       "      <td>1.261669e+08</td>\n",
       "      <td>1934391</td>\n",
       "      <td>18443</td>\n",
       "      <td>0.0</td>\n",
       "      <td>0.0</td>\n",
       "    </tr>\n",
       "    <tr>\n",
       "      <th>Ethiopia</th>\n",
       "      <td>1.149636e+08</td>\n",
       "      <td>459486</td>\n",
       "      <td>7184</td>\n",
       "      <td>0.0</td>\n",
       "      <td>0.0</td>\n",
       "    </tr>\n",
       "    <tr>\n",
       "      <th>Philippines</th>\n",
       "      <td>1.095811e+08</td>\n",
       "      <td>3270758</td>\n",
       "      <td>52962</td>\n",
       "      <td>0.0</td>\n",
       "      <td>0.0</td>\n",
       "    </tr>\n",
       "    <tr>\n",
       "      <th>Egypt</th>\n",
       "      <td>1.023344e+08</td>\n",
       "      <td>402611</td>\n",
       "      <td>22205</td>\n",
       "      <td>0.0</td>\n",
       "      <td>0.0</td>\n",
       "    </tr>\n",
       "    <tr>\n",
       "      <th>Vietnam</th>\n",
       "      <td>9.733858e+07</td>\n",
       "      <td>2062128</td>\n",
       "      <td>35972</td>\n",
       "      <td>0.0</td>\n",
       "      <td>0.0</td>\n",
       "    </tr>\n",
       "    <tr>\n",
       "      <th>Congo (Kinshasa)</th>\n",
       "      <td>8.956140e+07</td>\n",
       "      <td>82984</td>\n",
       "      <td>1278</td>\n",
       "      <td>0.0</td>\n",
       "      <td>0.0</td>\n",
       "    </tr>\n",
       "    <tr>\n",
       "      <th>Turkey</th>\n",
       "      <td>8.433907e+07</td>\n",
       "      <td>10593687</td>\n",
       "      <td>85077</td>\n",
       "      <td>0.0</td>\n",
       "      <td>0.0</td>\n",
       "    </tr>\n",
       "    <tr>\n",
       "      <th>Iran</th>\n",
       "      <td>8.399295e+07</td>\n",
       "      <td>6227849</td>\n",
       "      <td>132113</td>\n",
       "      <td>0.0</td>\n",
       "      <td>0.0</td>\n",
       "    </tr>\n",
       "    <tr>\n",
       "      <th>Germany</th>\n",
       "      <td>8.301921e+07</td>\n",
       "      <td>8222262</td>\n",
       "      <td>116085</td>\n",
       "      <td>0.0</td>\n",
       "      <td>0.0</td>\n",
       "    </tr>\n",
       "    <tr>\n",
       "      <th>Thailand</th>\n",
       "      <td>6.979998e+07</td>\n",
       "      <td>2308615</td>\n",
       "      <td>21898</td>\n",
       "      <td>0.0</td>\n",
       "      <td>0.0</td>\n",
       "    </tr>\n",
       "  </tbody>\n",
       "</table>\n",
       "</div>"
      ],
      "text/plain": [
       "                    Population  Confirmed  Deaths  Recovered  Active\n",
       "Country_Region                                                      \n",
       "China             1.404676e+09     118297    4849        0.0     0.0\n",
       "India             1.371337e+09   37901241  487202        0.0     0.0\n",
       "US                3.323046e+08   67589830  853955        0.0     0.0\n",
       "Indonesia         2.735236e+08    4273783  144183        0.0     0.0\n",
       "Brazil            2.101471e+08   23229851  621803        0.0     0.0\n",
       "Pakistan          2.078318e+08    1338993   29037        0.0     0.0\n",
       "Nigeria           2.061396e+08     251341    3116        0.0     0.0\n",
       "Bangladesh        1.646894e+08    1632794   28164        0.0     0.0\n",
       "Russia            1.466447e+08   10682826  316168        0.0     0.0\n",
       "Mexico            1.277923e+08    4385415  301469        0.0     0.0\n",
       "Japan             1.261669e+08    1934391   18443        0.0     0.0\n",
       "Ethiopia          1.149636e+08     459486    7184        0.0     0.0\n",
       "Philippines       1.095811e+08    3270758   52962        0.0     0.0\n",
       "Egypt             1.023344e+08     402611   22205        0.0     0.0\n",
       "Vietnam           9.733858e+07    2062128   35972        0.0     0.0\n",
       "Congo (Kinshasa)  8.956140e+07      82984    1278        0.0     0.0\n",
       "Turkey            8.433907e+07   10593687   85077        0.0     0.0\n",
       "Iran              8.399295e+07    6227849  132113        0.0     0.0\n",
       "Germany           8.301921e+07    8222262  116085        0.0     0.0\n",
       "Thailand          6.979998e+07    2308615   21898        0.0     0.0"
      ]
     },
     "execution_count": 16,
     "metadata": {},
     "output_type": "execute_result"
    }
   ],
   "source": [
    "countriesrank = latest_data.groupby('Country_Region')[['Population','Confirmed','Deaths','Recovered','Active']].sum().sort_values('Population', ascending = False)[:20]\n",
    "countriesrank"
   ]
  },
  {
   "cell_type": "code",
   "execution_count": 17,
   "metadata": {
    "slideshow": {
     "slide_type": "skip"
    }
   },
   "outputs": [
    {
     "data": {
      "text/plain": [
       "'83,019,213 inhabitants'"
      ]
     },
     "execution_count": 17,
     "metadata": {},
     "output_type": "execute_result"
    }
   ],
   "source": [
    "#Checking population of Germany\n",
    "p = countriesrank.loc['Germany']['Population']\n",
    "f'{p:,.0f} inhabitants'"
   ]
  },
  {
   "cell_type": "markdown",
   "metadata": {
    "slideshow": {
     "slide_type": "slide"
    }
   },
   "source": [
    "# Latest data (John Hopkins) - summarising data by country and recalculating metrics (Population, %Infected, Mortality, Fatality)"
   ]
  },
  {
   "cell_type": "code",
   "execution_count": 18,
   "metadata": {
    "slideshow": {
     "slide_type": "-"
    }
   },
   "outputs": [
    {
     "data": {
      "text/html": [
       "<div>\n",
       "<style scoped>\n",
       "    .dataframe tbody tr th:only-of-type {\n",
       "        vertical-align: middle;\n",
       "    }\n",
       "\n",
       "    .dataframe tbody tr th {\n",
       "        vertical-align: top;\n",
       "    }\n",
       "\n",
       "    .dataframe thead th {\n",
       "        text-align: right;\n",
       "    }\n",
       "</style>\n",
       "<table border=\"1\" class=\"dataframe\">\n",
       "  <thead>\n",
       "    <tr style=\"text-align: right;\">\n",
       "      <th></th>\n",
       "      <th>Population</th>\n",
       "      <th>Confirmed</th>\n",
       "      <th>Deaths</th>\n",
       "      <th>Recovered</th>\n",
       "      <th>Active</th>\n",
       "      <th>%pop_infected</th>\n",
       "      <th>Mortality</th>\n",
       "      <th>Fatality</th>\n",
       "    </tr>\n",
       "    <tr>\n",
       "      <th>Country_Region</th>\n",
       "      <th></th>\n",
       "      <th></th>\n",
       "      <th></th>\n",
       "      <th></th>\n",
       "      <th></th>\n",
       "      <th></th>\n",
       "      <th></th>\n",
       "      <th></th>\n",
       "    </tr>\n",
       "  </thead>\n",
       "  <tbody>\n",
       "    <tr>\n",
       "      <th>China</th>\n",
       "      <td>1.404676e+09</td>\n",
       "      <td>118297</td>\n",
       "      <td>4849</td>\n",
       "      <td>0.0</td>\n",
       "      <td>0.0</td>\n",
       "      <td>0.000084</td>\n",
       "      <td>0.000003</td>\n",
       "      <td>0.040990</td>\n",
       "    </tr>\n",
       "    <tr>\n",
       "      <th>India</th>\n",
       "      <td>1.371337e+09</td>\n",
       "      <td>37901241</td>\n",
       "      <td>487202</td>\n",
       "      <td>0.0</td>\n",
       "      <td>0.0</td>\n",
       "      <td>0.027638</td>\n",
       "      <td>0.000355</td>\n",
       "      <td>0.012855</td>\n",
       "    </tr>\n",
       "    <tr>\n",
       "      <th>US</th>\n",
       "      <td>3.323046e+08</td>\n",
       "      <td>67589830</td>\n",
       "      <td>853955</td>\n",
       "      <td>0.0</td>\n",
       "      <td>0.0</td>\n",
       "      <td>0.203397</td>\n",
       "      <td>0.002570</td>\n",
       "      <td>0.012634</td>\n",
       "    </tr>\n",
       "    <tr>\n",
       "      <th>Indonesia</th>\n",
       "      <td>2.735236e+08</td>\n",
       "      <td>4273783</td>\n",
       "      <td>144183</td>\n",
       "      <td>0.0</td>\n",
       "      <td>0.0</td>\n",
       "      <td>0.015625</td>\n",
       "      <td>0.000527</td>\n",
       "      <td>0.033737</td>\n",
       "    </tr>\n",
       "    <tr>\n",
       "      <th>Brazil</th>\n",
       "      <td>2.101471e+08</td>\n",
       "      <td>23229851</td>\n",
       "      <td>621803</td>\n",
       "      <td>0.0</td>\n",
       "      <td>0.0</td>\n",
       "      <td>0.110541</td>\n",
       "      <td>0.002959</td>\n",
       "      <td>0.026767</td>\n",
       "    </tr>\n",
       "    <tr>\n",
       "      <th>Pakistan</th>\n",
       "      <td>2.078318e+08</td>\n",
       "      <td>1338993</td>\n",
       "      <td>29037</td>\n",
       "      <td>0.0</td>\n",
       "      <td>0.0</td>\n",
       "      <td>0.006443</td>\n",
       "      <td>0.000140</td>\n",
       "      <td>0.021686</td>\n",
       "    </tr>\n",
       "    <tr>\n",
       "      <th>Nigeria</th>\n",
       "      <td>2.061396e+08</td>\n",
       "      <td>251341</td>\n",
       "      <td>3116</td>\n",
       "      <td>0.0</td>\n",
       "      <td>0.0</td>\n",
       "      <td>0.001219</td>\n",
       "      <td>0.000015</td>\n",
       "      <td>0.012397</td>\n",
       "    </tr>\n",
       "    <tr>\n",
       "      <th>Bangladesh</th>\n",
       "      <td>1.646894e+08</td>\n",
       "      <td>1632794</td>\n",
       "      <td>28164</td>\n",
       "      <td>0.0</td>\n",
       "      <td>0.0</td>\n",
       "      <td>0.009914</td>\n",
       "      <td>0.000171</td>\n",
       "      <td>0.017249</td>\n",
       "    </tr>\n",
       "    <tr>\n",
       "      <th>Russia</th>\n",
       "      <td>1.466447e+08</td>\n",
       "      <td>10682826</td>\n",
       "      <td>316168</td>\n",
       "      <td>0.0</td>\n",
       "      <td>0.0</td>\n",
       "      <td>0.072848</td>\n",
       "      <td>0.002156</td>\n",
       "      <td>0.029596</td>\n",
       "    </tr>\n",
       "    <tr>\n",
       "      <th>Mexico</th>\n",
       "      <td>1.277923e+08</td>\n",
       "      <td>4385415</td>\n",
       "      <td>301469</td>\n",
       "      <td>0.0</td>\n",
       "      <td>0.0</td>\n",
       "      <td>0.034317</td>\n",
       "      <td>0.002359</td>\n",
       "      <td>0.068744</td>\n",
       "    </tr>\n",
       "    <tr>\n",
       "      <th>Japan</th>\n",
       "      <td>1.261669e+08</td>\n",
       "      <td>1934391</td>\n",
       "      <td>18443</td>\n",
       "      <td>0.0</td>\n",
       "      <td>0.0</td>\n",
       "      <td>0.015332</td>\n",
       "      <td>0.000146</td>\n",
       "      <td>0.009534</td>\n",
       "    </tr>\n",
       "    <tr>\n",
       "      <th>Ethiopia</th>\n",
       "      <td>1.149636e+08</td>\n",
       "      <td>459486</td>\n",
       "      <td>7184</td>\n",
       "      <td>0.0</td>\n",
       "      <td>0.0</td>\n",
       "      <td>0.003997</td>\n",
       "      <td>0.000062</td>\n",
       "      <td>0.015635</td>\n",
       "    </tr>\n",
       "    <tr>\n",
       "      <th>Philippines</th>\n",
       "      <td>1.095811e+08</td>\n",
       "      <td>3270758</td>\n",
       "      <td>52962</td>\n",
       "      <td>0.0</td>\n",
       "      <td>0.0</td>\n",
       "      <td>0.029848</td>\n",
       "      <td>0.000483</td>\n",
       "      <td>0.016193</td>\n",
       "    </tr>\n",
       "    <tr>\n",
       "      <th>Egypt</th>\n",
       "      <td>1.023344e+08</td>\n",
       "      <td>402611</td>\n",
       "      <td>22205</td>\n",
       "      <td>0.0</td>\n",
       "      <td>0.0</td>\n",
       "      <td>0.003934</td>\n",
       "      <td>0.000217</td>\n",
       "      <td>0.055152</td>\n",
       "    </tr>\n",
       "    <tr>\n",
       "      <th>Vietnam</th>\n",
       "      <td>9.733858e+07</td>\n",
       "      <td>2062128</td>\n",
       "      <td>35972</td>\n",
       "      <td>0.0</td>\n",
       "      <td>0.0</td>\n",
       "      <td>0.021185</td>\n",
       "      <td>0.000370</td>\n",
       "      <td>0.017444</td>\n",
       "    </tr>\n",
       "    <tr>\n",
       "      <th>Congo (Kinshasa)</th>\n",
       "      <td>8.956140e+07</td>\n",
       "      <td>82984</td>\n",
       "      <td>1278</td>\n",
       "      <td>0.0</td>\n",
       "      <td>0.0</td>\n",
       "      <td>0.000927</td>\n",
       "      <td>0.000014</td>\n",
       "      <td>0.015401</td>\n",
       "    </tr>\n",
       "    <tr>\n",
       "      <th>Turkey</th>\n",
       "      <td>8.433907e+07</td>\n",
       "      <td>10593687</td>\n",
       "      <td>85077</td>\n",
       "      <td>0.0</td>\n",
       "      <td>0.0</td>\n",
       "      <td>0.125608</td>\n",
       "      <td>0.001009</td>\n",
       "      <td>0.008031</td>\n",
       "    </tr>\n",
       "    <tr>\n",
       "      <th>Iran</th>\n",
       "      <td>8.399295e+07</td>\n",
       "      <td>6227849</td>\n",
       "      <td>132113</td>\n",
       "      <td>0.0</td>\n",
       "      <td>0.0</td>\n",
       "      <td>0.074147</td>\n",
       "      <td>0.001573</td>\n",
       "      <td>0.021213</td>\n",
       "    </tr>\n",
       "    <tr>\n",
       "      <th>Germany</th>\n",
       "      <td>8.301921e+07</td>\n",
       "      <td>8222262</td>\n",
       "      <td>116085</td>\n",
       "      <td>0.0</td>\n",
       "      <td>0.0</td>\n",
       "      <td>0.099040</td>\n",
       "      <td>0.001398</td>\n",
       "      <td>0.014118</td>\n",
       "    </tr>\n",
       "    <tr>\n",
       "      <th>Thailand</th>\n",
       "      <td>6.979998e+07</td>\n",
       "      <td>2308615</td>\n",
       "      <td>21898</td>\n",
       "      <td>0.0</td>\n",
       "      <td>0.0</td>\n",
       "      <td>0.033075</td>\n",
       "      <td>0.000314</td>\n",
       "      <td>0.009485</td>\n",
       "    </tr>\n",
       "  </tbody>\n",
       "</table>\n",
       "</div>"
      ],
      "text/plain": [
       "                    Population  Confirmed  Deaths  Recovered  Active  \\\n",
       "Country_Region                                                         \n",
       "China             1.404676e+09     118297    4849        0.0     0.0   \n",
       "India             1.371337e+09   37901241  487202        0.0     0.0   \n",
       "US                3.323046e+08   67589830  853955        0.0     0.0   \n",
       "Indonesia         2.735236e+08    4273783  144183        0.0     0.0   \n",
       "Brazil            2.101471e+08   23229851  621803        0.0     0.0   \n",
       "Pakistan          2.078318e+08    1338993   29037        0.0     0.0   \n",
       "Nigeria           2.061396e+08     251341    3116        0.0     0.0   \n",
       "Bangladesh        1.646894e+08    1632794   28164        0.0     0.0   \n",
       "Russia            1.466447e+08   10682826  316168        0.0     0.0   \n",
       "Mexico            1.277923e+08    4385415  301469        0.0     0.0   \n",
       "Japan             1.261669e+08    1934391   18443        0.0     0.0   \n",
       "Ethiopia          1.149636e+08     459486    7184        0.0     0.0   \n",
       "Philippines       1.095811e+08    3270758   52962        0.0     0.0   \n",
       "Egypt             1.023344e+08     402611   22205        0.0     0.0   \n",
       "Vietnam           9.733858e+07    2062128   35972        0.0     0.0   \n",
       "Congo (Kinshasa)  8.956140e+07      82984    1278        0.0     0.0   \n",
       "Turkey            8.433907e+07   10593687   85077        0.0     0.0   \n",
       "Iran              8.399295e+07    6227849  132113        0.0     0.0   \n",
       "Germany           8.301921e+07    8222262  116085        0.0     0.0   \n",
       "Thailand          6.979998e+07    2308615   21898        0.0     0.0   \n",
       "\n",
       "                  %pop_infected  Mortality  Fatality  \n",
       "Country_Region                                        \n",
       "China                  0.000084   0.000003  0.040990  \n",
       "India                  0.027638   0.000355  0.012855  \n",
       "US                     0.203397   0.002570  0.012634  \n",
       "Indonesia              0.015625   0.000527  0.033737  \n",
       "Brazil                 0.110541   0.002959  0.026767  \n",
       "Pakistan               0.006443   0.000140  0.021686  \n",
       "Nigeria                0.001219   0.000015  0.012397  \n",
       "Bangladesh             0.009914   0.000171  0.017249  \n",
       "Russia                 0.072848   0.002156  0.029596  \n",
       "Mexico                 0.034317   0.002359  0.068744  \n",
       "Japan                  0.015332   0.000146  0.009534  \n",
       "Ethiopia               0.003997   0.000062  0.015635  \n",
       "Philippines            0.029848   0.000483  0.016193  \n",
       "Egypt                  0.003934   0.000217  0.055152  \n",
       "Vietnam                0.021185   0.000370  0.017444  \n",
       "Congo (Kinshasa)       0.000927   0.000014  0.015401  \n",
       "Turkey                 0.125608   0.001009  0.008031  \n",
       "Iran                   0.074147   0.001573  0.021213  \n",
       "Germany                0.099040   0.001398  0.014118  \n",
       "Thailand               0.033075   0.000314  0.009485  "
      ]
     },
     "execution_count": 18,
     "metadata": {},
     "output_type": "execute_result"
    }
   ],
   "source": [
    "countriesrank['%pop_infected'] = countriesrank['Confirmed'] / countriesrank['Population']\n",
    "countriesrank['Mortality']  = countriesrank['Deaths'] / countriesrank['Population']\n",
    "countriesrank['Fatality'] = countriesrank['Deaths'] / countriesrank['Confirmed']\n",
    "countriesrank"
   ]
  },
  {
   "cell_type": "code",
   "execution_count": 19,
   "metadata": {},
   "outputs": [],
   "source": [
    "countriesrank = countriesrank[::-1]"
   ]
  },
  {
   "cell_type": "markdown",
   "metadata": {
    "slideshow": {
     "slide_type": "slide"
    }
   },
   "source": [
    "# Death toll for top-20 most populated countries\n",
    "Sorted by population in descending order  \n",
    "Vertical green line is <font color=green>average</font>  \n",
    "Vertical orange line is <font color=orange>median</font>\n",
    "<!-- ![alt text](Assets/deaths_ranking.png) -->"
   ]
  },
  {
   "cell_type": "code",
   "execution_count": 20,
   "metadata": {
    "slideshow": {
     "slide_type": "-"
    }
   },
   "outputs": [
    {
     "data": {
      "image/png": "[encoded data removed]",
      "text/plain": [
       "<Figure size 432x288 with 1 Axes>"
      ]
     },
     "metadata": {
      "needs_background": "light"
     },
     "output_type": "display_data"
    }
   ],
   "source": [
    "# libraries\n",
    "import numpy as np\n",
    "import matplotlib.pyplot as plt\n",
    "\n",
    "\n",
    "# Make dataset\n",
    "height = countriesrank.Deaths.tolist()\n",
    "bars = countriesrank.index.tolist()\n",
    "y_pos = np.arange(len(bars)) # returns index position [ 0,  1,  2,  3,..., 19]\n",
    "\n",
    "fig, ax = plt.subplots()\n",
    "# Create horizontal bars\n",
    "plt.barh(y_pos, height)\n",
    " \n",
    "# Create names on the y-axis\n",
    "plt.yticks(y_pos, bars)\n",
    "\n",
    "#Create median\n",
    "plt.axvline(x=np.median(countriesrank['Deaths']), color='orange', linestyle='--', label = 'median')\n",
    "plt.axvline(x=np.average(countriesrank['Deaths']), color='green', linestyle='-', label = 'average')\n",
    "\n",
    "#Fornat the X-axis\n",
    "xaxis_values = plt.gca().get_xticks() #get all the tick values\n",
    "ax.set_xticks(xaxis_values) #Set tick values from above (redundant but this is to prevent error message)\n",
    "plt.gca().set_xticklabels([f'{x/1000:,.0f}K' for x in xaxis_values])\n",
    "\n",
    "# Save & Show graphic\n",
    "#plt.savefig(f'{dimgf}deaths-ranking_{timestamp()}.png',  bbox_inches='tight')\n",
    "plt.plot(figsize=[10,16])\n",
    "plt.show()"
   ]
  },
  {
   "cell_type": "markdown",
   "metadata": {
    "collapsed": true,
    "slideshow": {
     "slide_type": "skip"
    }
   },
   "source": [
    "!conda install --yes --prefix {sys.prefix} seaborn"
   ]
  },
  {
   "cell_type": "code",
   "execution_count": 21,
   "metadata": {
    "slideshow": {
     "slide_type": "skip"
    }
   },
   "outputs": [
    {
     "data": {
      "text/plain": [
       "44467.0"
      ]
     },
     "execution_count": 21,
     "metadata": {},
     "output_type": "execute_result"
    }
   ],
   "source": [
    "np.median(countriesrank['Deaths'])"
   ]
  },
  {
   "cell_type": "markdown",
   "metadata": {
    "slideshow": {
     "slide_type": "slide"
    }
   },
   "source": [
    "# Bubble chart: % Infected population,Fatality, Death toll\n",
    "- **x axis** = %population infected (cumulative cases/population), approximation \n",
    "- **y axis** = Fatality rate (total deaths/total cases) | **bubble size** = # deaths\n",
    "<!-- ![alt text](Assets/bubble.png) -->"
   ]
  },
  {
   "cell_type": "code",
   "execution_count": 22,
   "metadata": {
    "slideshow": {
     "slide_type": "-"
    }
   },
   "outputs": [
    {
     "data": {
      "image/png": "[encoded data removed]",
      "text/plain": [
       "<Figure size 1080x432 with 1 Axes>"
      ]
     },
     "metadata": {
      "needs_background": "light"
     },
     "output_type": "display_data"
    }
   ],
   "source": [
    "# library & dataset\n",
    "import seaborn as sns\n",
    "from adjustText import adjust_text\n",
    "\n",
    " \n",
    "# # use the function regplot to make a scatterplot\n",
    "# sns.regplot(x=countriesrank['Incidence'],\n",
    "#             y=countriesrank['Fatality'])\n",
    "# #sns.plt.show()\n",
    " \n",
    "# # Without regression fit:\n",
    "# sns.regplot(sns.regplot(x=countriesrank['Incidence'],\n",
    "#             y=countriesrank['Fatality']),\n",
    "#             fit_reg=False)\n",
    "\n",
    " \n",
    "# create data\n",
    "x = countriesrank['%pop_infected'] # x-axis rate\n",
    "y=countriesrank['Fatality'] # y-axis rate\n",
    "z=countriesrank['Deaths'] # Bubblesize #deaths (not a rate)\n",
    "cname = countriesrank.index.tolist()\n",
    "\n",
    "plt.figure(figsize = (15,6))\n",
    "# plt.text(x, y, \n",
    "#       cname,size=11,horizontalalignment='center')\n",
    "\n",
    "# Change color with c and alpha\n",
    "plt.scatter(x, y, s=z/100, c=\"red\", alpha=0.4)\n",
    "plt.xlim([0,max(x)+0.01])\n",
    "plt.ylim([0,max(y)+0.01])\n",
    "\n",
    "# for line in range(0,len(x)):\n",
    "#     if x[line]<= 0.005 and y[line]<= 0.02:\n",
    "#         plt.text(x[line], y[line], cname[line], horizontalalignment='center', size=7, color='black', weight='semibold')\n",
    "#     else: \n",
    "#         plt.text(x[line], y[line], cname[line], horizontalalignment='center', size='medium', color='black', weight='semibold')\n",
    "\n",
    "# This is to format the labelling to avoid overlap: https://github.com/Phlya/adjustText/wiki\n",
    "texts = [plt.text(x[i], y[i], cname[i],\n",
    "        ha='center', va='center',size='medium', color='black', weight='semibold') for i in range(len(x))]\n",
    "adjust_text(texts)\n",
    "\n",
    "plt.xlabel('%population infected')\n",
    "plt.ylabel('Fatality rate')\n",
    "#plt.show()\n",
    "plt.savefig(f'{dimgf}/Bubble-chart_{datefile.strftime(\"%Y-%m-%d\")}.png')\n",
    "plt.show()"
   ]
  },
  {
   "cell_type": "markdown",
   "metadata": {
    "slideshow": {
     "slide_type": "subslide"
    }
   },
   "source": [
    "### Comments\n",
    "- % population infected (approximation only as this does not consider the fact that reinfected people inflate confirmed cases): impacted by testing policy (number of test centres, free or paid tests, test kit avaibility etc); and by willingness of countries to report accurate case numbers\n",
    "- Fatality rate: impacted by vaccination rate, hospital capacity/equipment; and by willingness of countries to report accurate case numbers and death toll\n",
    "- Deaths: this should be analysed concurrently with population size"
   ]
  },
  {
   "cell_type": "markdown",
   "metadata": {
    "slideshow": {
     "slide_type": "slide"
    }
   },
   "source": [
    "# Comparative Analysis on key indicators - covid19 open data (google-cloud)"
   ]
  },
  {
   "cell_type": "markdown",
   "metadata": {},
   "source": [
    "Key indictors definitions: (metrics are smoothed out using 7-day running average)\n",
    "- **vaccination_rate** = current_population vaccinated / total_population\n",
    "- **new_cases_per_100** = daily_new_cases / total_population * 100 (aka incidence)\n",
    "- **hospitalizations_per_10K** = current_hospitalized_patients/ total_population * 1000\n",
    "- **deaths_per_100K** = daily_new_deaths / total_population * 100_000 (aka mortality)"
   ]
  },
  {
   "cell_type": "markdown",
   "metadata": {
    "slideshow": {
     "slide_type": "skip"
    }
   },
   "source": [
    "##### View of key indicators by country"
   ]
  },
  {
   "cell_type": "code",
   "execution_count": 23,
   "metadata": {
    "slideshow": {
     "slide_type": "skip"
    }
   },
   "outputs": [],
   "source": [
    "#meta data about covid19 open data\n",
    "#indexcodes = pd.read_csv('https://storage.googleapis.com/covid19-open-data/v3/index.csv')\n",
    "#indexcodes"
   ]
  },
  {
   "cell_type": "code",
   "execution_count": 24,
   "metadata": {
    "slideshow": {
     "slide_type": "skip"
    }
   },
   "outputs": [],
   "source": [
    "#complete set of columns to be selected, with new_hospitalized_patients\n",
    "selectcols = ['date',\n",
    "              'country_code',\n",
    "              'cumulative_persons_fully_vaccinated',\n",
    "              'new_confirmed',\n",
    "              'new_hospitalized_patients', 'current_hospitalized_patients',\n",
    "              'new_deceased','population', 'aggregation_level']\n",
    "\n",
    "#partial set without new_hospitalized_patients - because Australia has an issue\n",
    "selectcols1 = ['date',\n",
    "               'country_code',\n",
    "               'cumulative_persons_fully_vaccinated',\n",
    "               'new_confirmed', \n",
    "               'current_hospitalized_patients', # no new hospitalized\n",
    "               'new_deceased','population', 'aggregation_level']"
   ]
  },
  {
   "cell_type": "code",
   "execution_count": 25,
   "metadata": {
    "slideshow": {
     "slide_type": "slide"
    }
   },
   "outputs": [
    {
     "data": {
      "image/png": "[encoded data removed]",
      "text/plain": [
       "<Figure size 720x100.8 with 1 Axes>"
      ]
     },
     "metadata": {
      "needs_background": "light"
     },
     "output_type": "display_data"
    },
    {
     "data": {
      "image/png": "[encoded data removed]",
      "text/plain": [
       "<Figure size 720x100.8 with 1 Axes>"
      ]
     },
     "metadata": {
      "needs_background": "light"
     },
     "output_type": "display_data"
    },
    {
     "data": {
      "image/png": "[encoded data removed]",
      "text/plain": [
       "<Figure size 720x100.8 with 1 Axes>"
      ]
     },
     "metadata": {
      "needs_background": "light"
     },
     "output_type": "display_data"
    },
    {
     "data": {
      "image/png": "[encoded data removed]",
      "text/plain": [
       "<Figure size 720x100.8 with 1 Axes>"
      ]
     },
     "metadata": {
      "needs_background": "light"
     },
     "output_type": "display_data"
    }
   ],
   "source": [
    "select_c = ['FR','AU','GB','US'] #list of countries to analyse for the Loop\n",
    "startdate = dt.datetime(2020,1,1)\n",
    "data = pd.DataFrame([])\n",
    "population = list()\n",
    "\n",
    "\n",
    "for country in select_c:\n",
    "    df = pd.read_csv(f'https://storage.googleapis.com/covid19-open-data/v3/location/{country}.csv')\n",
    "    df.date = df.date.apply(lambda x: dt.datetime.strptime(x, '%Y-%m-%d'))\n",
    "    if 'new_hospitalized_patients' in df.columns: \n",
    "        data = data.append(df[selectcols])\n",
    "    else: #exception for Australia\n",
    "        data = data.append(df[selectcols1])\n",
    "    \n",
    "    df = df.set_index('date')\n",
    "    \n",
    "    \n",
    "    # Compute population counts\n",
    "    total_population = df.population.iloc[0]\n",
    "    population.append([country , total_population])\n",
    "    #adult_population = total_population - df.population_age_00_09.iloc[0] - df.population_age_10_19.iloc[0]\n",
    "\n",
    "    # Compute smoothed averages of our variables\n",
    "    X = pd.DataFrame(index=df.index)\n",
    "    X = X.iloc[X.index >= startdate]\n",
    "    X['vaccination_rate'] = df.cumulative_persons_fully_vaccinated.rolling(7).mean() / total_population\n",
    "    X['new_cases_per_100'] = df.new_confirmed.rolling(7).mean() / total_population * 1_00\n",
    "    #X['incidence (per 100K'] = df.new_confirmed.rolling(7).sum() / total_population * 10\n",
    "    X['hospitalizations_per_1K'] = df.current_hospitalized_patients.rolling(7).mean() / total_population * 1000\n",
    "    X['deaths_per_100K'] = df.new_deceased.rolling(7).mean() / total_population * 100_000\n",
    "    #X['deaths (per 10K)'] = df.new_deceased.rolling(7).mean() / total_population * 10_000\n",
    "\n",
    "    X.plot(figsize=(10, 1.4), title=f'covid19 tracker - {country}')\n",
    "    \n",
    "    plt.ylim(top=1)\n",
    "    plt.xlabel('') #turns off the x label\n",
    "    plt.legend(loc='upper left') #location of the legend box\n",
    "\n",
    "plt.show()"
   ]
  },
  {
   "cell_type": "code",
   "execution_count": 26,
   "metadata": {
    "slideshow": {
     "slide_type": "skip"
    }
   },
   "outputs": [
    {
     "data": {
      "text/plain": [
       "{'FR': 67012883, 'AU': 25499881, 'GB': 66647112, 'US': 331002647}"
      ]
     },
     "execution_count": 26,
     "metadata": {},
     "output_type": "execute_result"
    }
   ],
   "source": [
    "population = dict(population)\n",
    "population"
   ]
  },
  {
   "cell_type": "code",
   "execution_count": 27,
   "metadata": {
    "slideshow": {
     "slide_type": "skip"
    }
   },
   "outputs": [],
   "source": [
    "#Calculating additional metrics\n",
    "data['vaccination_rate'] = data.cumulative_persons_fully_vaccinated.rolling(7).mean() / data.population\n",
    "data['new_cases_per_100'] = data.new_confirmed.rolling(7).mean() / data.population * 1_00\n",
    "data['incidence_per_100K'] = data.new_confirmed.rolling(7).sum() / data.population * 100_000\n",
    "data['hospitalizations_per_1K'] = data.current_hospitalized_patients.rolling(7).mean() / data.population * 1000\n",
    "data['deaths_per_100K'] = data.new_deceased.rolling(7).mean() / data.population * 100_000\n",
    "#data['deaths (per 10K)'] = data.new_deceased.rolling(7).mean() / data.population * 10_000"
   ]
  },
  {
   "cell_type": "code",
   "execution_count": 28,
   "metadata": {
    "slideshow": {
     "slide_type": "skip"
    }
   },
   "outputs": [],
   "source": [
    "colour = {'FR':'blue',\n",
    "          'AU':'g',\n",
    "          'GB':'grey',\n",
    "          'US':'r'\n",
    "         }\n",
    "#data = data.reset_index()\n",
    "\n",
    "def graph_metric(metric):\n",
    "    for country in select_c:\n",
    "        data_c = data[(data.country_code == country) &\n",
    "                      (data.date >= startdate)]\n",
    "        \n",
    "        plt.figure(num=1, figsize=(10, 1.5))\n",
    "        plt.plot( data_c.date,\n",
    "                data_c[metric],\n",
    "                label=country,\n",
    "                color= colour[country]\n",
    "                )\n",
    "\n",
    "    plt.xlabel('') #turns off the x label\n",
    "    plt.ylabel(metric)\n",
    "    plt.legend()\n",
    "    return plt.show()"
   ]
  },
  {
   "cell_type": "markdown",
   "metadata": {
    "slideshow": {
     "slide_type": "skip"
    }
   },
   "source": [
    "##### Country comparison for each key indicator"
   ]
  },
  {
   "cell_type": "code",
   "execution_count": 29,
   "metadata": {
    "slideshow": {
     "slide_type": "slide"
    }
   },
   "outputs": [
    {
     "data": {
      "image/png": "[encoded data removed]",
      "text/plain": [
       "<Figure size 720x108 with 1 Axes>"
      ]
     },
     "metadata": {
      "needs_background": "light"
     },
     "output_type": "display_data"
    },
    {
     "data": {
      "image/png": "[encoded data removed]",
      "text/plain": [
       "<Figure size 720x108 with 1 Axes>"
      ]
     },
     "metadata": {
      "needs_background": "light"
     },
     "output_type": "display_data"
    },
    {
     "data": {
      "image/png": "[encoded data removed]",
      "text/plain": [
       "<Figure size 720x108 with 1 Axes>"
      ]
     },
     "metadata": {
      "needs_background": "light"
     },
     "output_type": "display_data"
    },
    {
     "data": {
      "image/png": "[encoded data removed]",
      "text/plain": [
       "<Figure size 720x108 with 1 Axes>"
      ]
     },
     "metadata": {
      "needs_background": "light"
     },
     "output_type": "display_data"
    }
   ],
   "source": [
    "for metric in ['vaccination_rate', 'new_cases_per_100',\n",
    "          'hospitalizations_per_1K', 'deaths_per_100K' ]:\n",
    "    graph_metric(metric)"
   ]
  },
  {
   "cell_type": "code",
   "execution_count": 30,
   "metadata": {
    "slideshow": {
     "slide_type": "skip"
    }
   },
   "outputs": [
    {
     "data": {
      "image/png": "[encoded data removed]",
      "text/plain": [
       "<Figure size 720x108 with 1 Axes>"
      ]
     },
     "metadata": {
      "needs_background": "light"
     },
     "output_type": "display_data"
    },
    {
     "data": {
      "image/png": "[encoded data removed]",
      "text/plain": [
       "<Figure size 720x108 with 1 Axes>"
      ]
     },
     "metadata": {
      "needs_background": "light"
     },
     "output_type": "display_data"
    }
   ],
   "source": [
    "for metric in ['vaccination_rate', 'new_cases_per_100']:\n",
    "    graph_metric(metric)"
   ]
  },
  {
   "cell_type": "code",
   "execution_count": 31,
   "metadata": {
    "slideshow": {
     "slide_type": "skip"
    }
   },
   "outputs": [
    {
     "data": {
      "image/png": "[encoded data removed]",
      "text/plain": [
       "<Figure size 720x108 with 1 Axes>"
      ]
     },
     "metadata": {
      "needs_background": "light"
     },
     "output_type": "display_data"
    },
    {
     "data": {
      "image/png": "[encoded data removed]",
      "text/plain": [
       "<Figure size 720x108 with 1 Axes>"
      ]
     },
     "metadata": {
      "needs_background": "light"
     },
     "output_type": "display_data"
    }
   ],
   "source": [
    "for metric in ['hospitalizations_per_1K', 'deaths_per_100K' ]:\n",
    "        graph_metric(metric)"
   ]
  },
  {
   "cell_type": "raw",
   "metadata": {
    "slideshow": {
     "slide_type": "skip"
    }
   },
   "source": [
    "# This is by area, department etc.\n",
    "epci = pd.read_excel('https://www.data.gouv.fr/fr/datasets/r/42386964-42be-47dc-bf38-adbc20ec6837')\n",
    "print(epci.groupby('TYPE_EPCI')['NOM_EPCI'].agg(lambda x: list(x)))\n",
    "\n",
    "FR_ti = pd.read_csv('https://www.data.gouv.fr/fr/datasets/r/710eab38-695f-4c89-8026-69ffa70a73c5')\n",
    "FR_ti[FR_ti.clage_65==0].tail(10) #need to link the epci code with the epci table"
   ]
  },
  {
   "cell_type": "markdown",
   "metadata": {
    "slideshow": {
     "slide_type": "slide"
    }
   },
   "source": [
    "# The case of France\n",
    "  \n",
    "  \n",
    "- New cases  \n",
    "- Incidence rate (New cases/population * 100 000)\n",
    "\n",
    "<!-- **New Cases**\n",
    "![alt text](Assets/France_newcases.png)-->\n",
    "<div> <img src=\"Assets/frenchflag.jpg\" width=\"300\" align ='middle' alt=\"alt_text\"> </div> "
   ]
  },
  {
   "cell_type": "markdown",
   "metadata": {
    "slideshow": {
     "slide_type": "slide"
    }
   },
   "source": [
    "# Confirmed cases (John Hopkins) - what the data looks like\n",
    "<br>\n",
    "<br>\n",
    "<br>\n",
    "<br>\n",
    "<br>\n",
    "<br>\n",
    "\n",
    "<!-- ![alt text](Assets/Confirmed_cases.png)  -->"
   ]
  },
  {
   "cell_type": "code",
   "execution_count": 32,
   "metadata": {
    "slideshow": {
     "slide_type": "skip"
    }
   },
   "outputs": [],
   "source": [
    "#this selects the first 2 columns and the last 10 columns\n",
    "display_col = confirmed_df.columns[:2].append( confirmed_df.columns[-10:] )"
   ]
  },
  {
   "cell_type": "code",
   "execution_count": 33,
   "metadata": {
    "slideshow": {
     "slide_type": "skip"
    }
   },
   "outputs": [
    {
     "data": {
      "text/html": [
       "<div>\n",
       "<style scoped>\n",
       "    .dataframe tbody tr th:only-of-type {\n",
       "        vertical-align: middle;\n",
       "    }\n",
       "\n",
       "    .dataframe tbody tr th {\n",
       "        vertical-align: top;\n",
       "    }\n",
       "\n",
       "    .dataframe thead th {\n",
       "        text-align: right;\n",
       "    }\n",
       "</style>\n",
       "<table border=\"1\" class=\"dataframe\">\n",
       "  <thead>\n",
       "    <tr style=\"text-align: right;\">\n",
       "      <th></th>\n",
       "      <th>Province/State</th>\n",
       "      <th>Country/Region</th>\n",
       "      <th>1/9/22</th>\n",
       "      <th>1/10/22</th>\n",
       "      <th>1/11/22</th>\n",
       "      <th>1/12/22</th>\n",
       "      <th>1/13/22</th>\n",
       "      <th>1/14/22</th>\n",
       "      <th>1/15/22</th>\n",
       "      <th>1/16/22</th>\n",
       "      <th>1/17/22</th>\n",
       "      <th>1/18/22</th>\n",
       "    </tr>\n",
       "  </thead>\n",
       "  <tbody>\n",
       "    <tr>\n",
       "      <th>0</th>\n",
       "      <td>NaN</td>\n",
       "      <td>Afghanistan</td>\n",
       "      <td>158381</td>\n",
       "      <td>158394</td>\n",
       "      <td>158471</td>\n",
       "      <td>158511</td>\n",
       "      <td>158602</td>\n",
       "      <td>158639</td>\n",
       "      <td>158678</td>\n",
       "      <td>158717</td>\n",
       "      <td>158826</td>\n",
       "      <td>158974</td>\n",
       "    </tr>\n",
       "    <tr>\n",
       "      <th>1</th>\n",
       "      <td>NaN</td>\n",
       "      <td>Albania</td>\n",
       "      <td>219694</td>\n",
       "      <td>220487</td>\n",
       "      <td>222664</td>\n",
       "      <td>224569</td>\n",
       "      <td>226598</td>\n",
       "      <td>228777</td>\n",
       "      <td>230940</td>\n",
       "      <td>232637</td>\n",
       "      <td>233654</td>\n",
       "      <td>236486</td>\n",
       "    </tr>\n",
       "    <tr>\n",
       "      <th>2</th>\n",
       "      <td>NaN</td>\n",
       "      <td>Algeria</td>\n",
       "      <td>222157</td>\n",
       "      <td>222639</td>\n",
       "      <td>223196</td>\n",
       "      <td>223806</td>\n",
       "      <td>224383</td>\n",
       "      <td>224979</td>\n",
       "      <td>225484</td>\n",
       "      <td>226057</td>\n",
       "      <td>226749</td>\n",
       "      <td>227559</td>\n",
       "    </tr>\n",
       "    <tr>\n",
       "      <th>3</th>\n",
       "      <td>NaN</td>\n",
       "      <td>Andorra</td>\n",
       "      <td>26408</td>\n",
       "      <td>27983</td>\n",
       "      <td>28542</td>\n",
       "      <td>28899</td>\n",
       "      <td>28899</td>\n",
       "      <td>29888</td>\n",
       "      <td>29888</td>\n",
       "      <td>29888</td>\n",
       "      <td>29888</td>\n",
       "      <td>29888</td>\n",
       "    </tr>\n",
       "    <tr>\n",
       "      <th>4</th>\n",
       "      <td>NaN</td>\n",
       "      <td>Angola</td>\n",
       "      <td>89718</td>\n",
       "      <td>90316</td>\n",
       "      <td>91148</td>\n",
       "      <td>91907</td>\n",
       "      <td>92581</td>\n",
       "      <td>93302</td>\n",
       "      <td>93524</td>\n",
       "      <td>93694</td>\n",
       "      <td>93974</td>\n",
       "      <td>94275</td>\n",
       "    </tr>\n",
       "  </tbody>\n",
       "</table>\n",
       "</div>"
      ],
      "text/plain": [
       "  Province/State Country/Region  1/9/22  1/10/22  1/11/22  1/12/22  1/13/22  \\\n",
       "0            NaN    Afghanistan  158381   158394   158471   158511   158602   \n",
       "1            NaN        Albania  219694   220487   222664   224569   226598   \n",
       "2            NaN        Algeria  222157   222639   223196   223806   224383   \n",
       "3            NaN        Andorra   26408    27983    28542    28899    28899   \n",
       "4            NaN         Angola   89718    90316    91148    91907    92581   \n",
       "\n",
       "   1/14/22  1/15/22  1/16/22  1/17/22  1/18/22  \n",
       "0   158639   158678   158717   158826   158974  \n",
       "1   228777   230940   232637   233654   236486  \n",
       "2   224979   225484   226057   226749   227559  \n",
       "3    29888    29888    29888    29888    29888  \n",
       "4    93302    93524    93694    93974    94275  "
      ]
     },
     "execution_count": 33,
     "metadata": {},
     "output_type": "execute_result"
    }
   ],
   "source": [
    "confirmed_df.iloc[:5,:][display_col]"
   ]
  },
  {
   "cell_type": "markdown",
   "metadata": {
    "slideshow": {
     "slide_type": "skip"
    }
   },
   "source": [
    "# New cases"
   ]
  },
  {
   "cell_type": "code",
   "execution_count": 34,
   "metadata": {
    "slideshow": {
     "slide_type": "skip"
    }
   },
   "outputs": [],
   "source": [
    "confirmed_df['Province/State']= confirmed_df['Province/State'].fillna('Other')"
   ]
  },
  {
   "cell_type": "code",
   "execution_count": 35,
   "metadata": {
    "slideshow": {
     "slide_type": "-"
    }
   },
   "outputs": [
    {
     "data": {
      "text/html": [
       "<div>\n",
       "<style scoped>\n",
       "    .dataframe tbody tr th:only-of-type {\n",
       "        vertical-align: middle;\n",
       "    }\n",
       "\n",
       "    .dataframe tbody tr th {\n",
       "        vertical-align: top;\n",
       "    }\n",
       "\n",
       "    .dataframe thead th {\n",
       "        text-align: right;\n",
       "    }\n",
       "</style>\n",
       "<table border=\"1\" class=\"dataframe\">\n",
       "  <thead>\n",
       "    <tr style=\"text-align: right;\">\n",
       "      <th></th>\n",
       "      <th>Province/State</th>\n",
       "      <th>Country/Region</th>\n",
       "      <th>Lat</th>\n",
       "      <th>Long</th>\n",
       "      <th>1/22/20</th>\n",
       "      <th>1/23/20</th>\n",
       "      <th>1/24/20</th>\n",
       "      <th>1/25/20</th>\n",
       "      <th>1/26/20</th>\n",
       "      <th>1/27/20</th>\n",
       "      <th>...</th>\n",
       "      <th>1/9/22</th>\n",
       "      <th>1/10/22</th>\n",
       "      <th>1/11/22</th>\n",
       "      <th>1/12/22</th>\n",
       "      <th>1/13/22</th>\n",
       "      <th>1/14/22</th>\n",
       "      <th>1/15/22</th>\n",
       "      <th>1/16/22</th>\n",
       "      <th>1/17/22</th>\n",
       "      <th>1/18/22</th>\n",
       "    </tr>\n",
       "  </thead>\n",
       "  <tbody>\n",
       "    <tr>\n",
       "      <th>130</th>\n",
       "      <td>Other</td>\n",
       "      <td>France</td>\n",
       "      <td>46.2276</td>\n",
       "      <td>2.2137</td>\n",
       "      <td>0</td>\n",
       "      <td>0</td>\n",
       "      <td>2</td>\n",
       "      <td>3</td>\n",
       "      <td>3</td>\n",
       "      <td>3</td>\n",
       "      <td>...</td>\n",
       "      <td>11875607</td>\n",
       "      <td>11963184</td>\n",
       "      <td>12322734</td>\n",
       "      <td>12655210</td>\n",
       "      <td>12956857</td>\n",
       "      <td>13279505</td>\n",
       "      <td>13604085</td>\n",
       "      <td>13869172</td>\n",
       "      <td>13869172</td>\n",
       "      <td>13865920</td>\n",
       "    </tr>\n",
       "  </tbody>\n",
       "</table>\n",
       "<p>1 rows × 732 columns</p>\n",
       "</div>"
      ],
      "text/plain": [
       "    Province/State Country/Region      Lat    Long  1/22/20  1/23/20  1/24/20  \\\n",
       "130          Other         France  46.2276  2.2137        0        0        2   \n",
       "\n",
       "     1/25/20  1/26/20  1/27/20  ...    1/9/22   1/10/22   1/11/22   1/12/22  \\\n",
       "130        3        3        3  ...  11875607  11963184  12322734  12655210   \n",
       "\n",
       "      1/13/22   1/14/22   1/15/22   1/16/22   1/17/22   1/18/22  \n",
       "130  12956857  13279505  13604085  13869172  13869172  13865920  \n",
       "\n",
       "[1 rows x 732 columns]"
      ]
     },
     "execution_count": 35,
     "metadata": {},
     "output_type": "execute_result"
    }
   ],
   "source": [
    "confirmed_df[(confirmed_df['Country/Region']=='France') & (confirmed_df['Province/State']=='Other')]"
   ]
  },
  {
   "cell_type": "code",
   "execution_count": 36,
   "metadata": {
    "slideshow": {
     "slide_type": "skip"
    }
   },
   "outputs": [
    {
     "data": {
      "text/html": [
       "<div>\n",
       "<style scoped>\n",
       "    .dataframe tbody tr th:only-of-type {\n",
       "        vertical-align: middle;\n",
       "    }\n",
       "\n",
       "    .dataframe tbody tr th {\n",
       "        vertical-align: top;\n",
       "    }\n",
       "\n",
       "    .dataframe thead th {\n",
       "        text-align: right;\n",
       "    }\n",
       "</style>\n",
       "<table border=\"1\" class=\"dataframe\">\n",
       "  <thead>\n",
       "    <tr style=\"text-align: right;\">\n",
       "      <th></th>\n",
       "      <th>Province/State</th>\n",
       "      <th>Country/Region</th>\n",
       "      <th>Lat</th>\n",
       "      <th>Long</th>\n",
       "      <th>Date</th>\n",
       "      <th>Cases</th>\n",
       "    </tr>\n",
       "  </thead>\n",
       "  <tbody>\n",
       "    <tr>\n",
       "      <th>0</th>\n",
       "      <td>Alberta</td>\n",
       "      <td>Canada</td>\n",
       "      <td>53.9333</td>\n",
       "      <td>-116.5765</td>\n",
       "      <td>1/22/20</td>\n",
       "      <td>0</td>\n",
       "    </tr>\n",
       "    <tr>\n",
       "      <th>1</th>\n",
       "      <td>Alberta</td>\n",
       "      <td>Canada</td>\n",
       "      <td>53.9333</td>\n",
       "      <td>-116.5765</td>\n",
       "      <td>1/23/20</td>\n",
       "      <td>0</td>\n",
       "    </tr>\n",
       "    <tr>\n",
       "      <th>2</th>\n",
       "      <td>Alberta</td>\n",
       "      <td>Canada</td>\n",
       "      <td>53.9333</td>\n",
       "      <td>-116.5765</td>\n",
       "      <td>1/24/20</td>\n",
       "      <td>0</td>\n",
       "    </tr>\n",
       "    <tr>\n",
       "      <th>3</th>\n",
       "      <td>Alberta</td>\n",
       "      <td>Canada</td>\n",
       "      <td>53.9333</td>\n",
       "      <td>-116.5765</td>\n",
       "      <td>1/25/20</td>\n",
       "      <td>0</td>\n",
       "    </tr>\n",
       "    <tr>\n",
       "      <th>4</th>\n",
       "      <td>Alberta</td>\n",
       "      <td>Canada</td>\n",
       "      <td>53.9333</td>\n",
       "      <td>-116.5765</td>\n",
       "      <td>1/26/20</td>\n",
       "      <td>0</td>\n",
       "    </tr>\n",
       "    <tr>\n",
       "      <th>...</th>\n",
       "      <td>...</td>\n",
       "      <td>...</td>\n",
       "      <td>...</td>\n",
       "      <td>...</td>\n",
       "      <td>...</td>\n",
       "      <td>...</td>\n",
       "    </tr>\n",
       "    <tr>\n",
       "      <th>202379</th>\n",
       "      <td>Zhejiang</td>\n",
       "      <td>China</td>\n",
       "      <td>29.1832</td>\n",
       "      <td>120.0934</td>\n",
       "      <td>1/14/22</td>\n",
       "      <td>2096</td>\n",
       "    </tr>\n",
       "    <tr>\n",
       "      <th>202380</th>\n",
       "      <td>Zhejiang</td>\n",
       "      <td>China</td>\n",
       "      <td>29.1832</td>\n",
       "      <td>120.0934</td>\n",
       "      <td>1/15/22</td>\n",
       "      <td>2096</td>\n",
       "    </tr>\n",
       "    <tr>\n",
       "      <th>202381</th>\n",
       "      <td>Zhejiang</td>\n",
       "      <td>China</td>\n",
       "      <td>29.1832</td>\n",
       "      <td>120.0934</td>\n",
       "      <td>1/16/22</td>\n",
       "      <td>2098</td>\n",
       "    </tr>\n",
       "    <tr>\n",
       "      <th>202382</th>\n",
       "      <td>Zhejiang</td>\n",
       "      <td>China</td>\n",
       "      <td>29.1832</td>\n",
       "      <td>120.0934</td>\n",
       "      <td>1/17/22</td>\n",
       "      <td>2098</td>\n",
       "    </tr>\n",
       "    <tr>\n",
       "      <th>202383</th>\n",
       "      <td>Zhejiang</td>\n",
       "      <td>China</td>\n",
       "      <td>29.1832</td>\n",
       "      <td>120.0934</td>\n",
       "      <td>1/18/22</td>\n",
       "      <td>2098</td>\n",
       "    </tr>\n",
       "  </tbody>\n",
       "</table>\n",
       "<p>202384 rows × 6 columns</p>\n",
       "</div>"
      ],
      "text/plain": [
       "       Province/State Country/Region      Lat      Long     Date  Cases\n",
       "0             Alberta         Canada  53.9333 -116.5765  1/22/20      0\n",
       "1             Alberta         Canada  53.9333 -116.5765  1/23/20      0\n",
       "2             Alberta         Canada  53.9333 -116.5765  1/24/20      0\n",
       "3             Alberta         Canada  53.9333 -116.5765  1/25/20      0\n",
       "4             Alberta         Canada  53.9333 -116.5765  1/26/20      0\n",
       "...               ...            ...      ...       ...      ...    ...\n",
       "202379       Zhejiang          China  29.1832  120.0934  1/14/22   2096\n",
       "202380       Zhejiang          China  29.1832  120.0934  1/15/22   2096\n",
       "202381       Zhejiang          China  29.1832  120.0934  1/16/22   2098\n",
       "202382       Zhejiang          China  29.1832  120.0934  1/17/22   2098\n",
       "202383       Zhejiang          China  29.1832  120.0934  1/18/22   2098\n",
       "\n",
       "[202384 rows x 6 columns]"
      ]
     },
     "execution_count": 36,
     "metadata": {},
     "output_type": "execute_result"
    }
   ],
   "source": [
    "confirmed_cases = confirmed_df.groupby(['Province/State', 'Country/Region', 'Lat', 'Long'])[confirmed_df.columns[4:]].sum().stack()\n",
    "confirmed_cases = confirmed_cases.reset_index()\n",
    "confirmed_cases.rename({'level_4': 'Date', confirmed_cases.columns[5]: 'Cases'}, axis='columns', inplace = True)\n",
    "confirmed_cases"
   ]
  },
  {
   "cell_type": "code",
   "execution_count": 37,
   "metadata": {
    "slideshow": {
     "slide_type": "skip"
    }
   },
   "outputs": [
    {
     "data": {
      "text/html": [
       "<div>\n",
       "<style scoped>\n",
       "    .dataframe tbody tr th:only-of-type {\n",
       "        vertical-align: middle;\n",
       "    }\n",
       "\n",
       "    .dataframe tbody tr th {\n",
       "        vertical-align: top;\n",
       "    }\n",
       "\n",
       "    .dataframe thead th {\n",
       "        text-align: right;\n",
       "    }\n",
       "</style>\n",
       "<table border=\"1\" class=\"dataframe\">\n",
       "  <thead>\n",
       "    <tr style=\"text-align: right;\">\n",
       "      <th></th>\n",
       "      <th>Country/Region</th>\n",
       "      <th>Province/State</th>\n",
       "      <th>Lat</th>\n",
       "      <th>Long</th>\n",
       "      <th>date</th>\n",
       "      <th>cases</th>\n",
       "    </tr>\n",
       "  </thead>\n",
       "  <tbody>\n",
       "    <tr>\n",
       "      <th>0</th>\n",
       "      <td>Afghanistan</td>\n",
       "      <td>Other</td>\n",
       "      <td>33.939110</td>\n",
       "      <td>67.709953</td>\n",
       "      <td>1/22/20</td>\n",
       "      <td>0</td>\n",
       "    </tr>\n",
       "    <tr>\n",
       "      <th>1</th>\n",
       "      <td>Albania</td>\n",
       "      <td>Other</td>\n",
       "      <td>41.153300</td>\n",
       "      <td>20.168300</td>\n",
       "      <td>1/22/20</td>\n",
       "      <td>0</td>\n",
       "    </tr>\n",
       "    <tr>\n",
       "      <th>2</th>\n",
       "      <td>Algeria</td>\n",
       "      <td>Other</td>\n",
       "      <td>28.033900</td>\n",
       "      <td>1.659600</td>\n",
       "      <td>1/22/20</td>\n",
       "      <td>0</td>\n",
       "    </tr>\n",
       "    <tr>\n",
       "      <th>3</th>\n",
       "      <td>Andorra</td>\n",
       "      <td>Other</td>\n",
       "      <td>42.506300</td>\n",
       "      <td>1.521800</td>\n",
       "      <td>1/22/20</td>\n",
       "      <td>0</td>\n",
       "    </tr>\n",
       "    <tr>\n",
       "      <th>4</th>\n",
       "      <td>Angola</td>\n",
       "      <td>Other</td>\n",
       "      <td>-11.202700</td>\n",
       "      <td>17.873900</td>\n",
       "      <td>1/22/20</td>\n",
       "      <td>0</td>\n",
       "    </tr>\n",
       "    <tr>\n",
       "      <th>...</th>\n",
       "      <td>...</td>\n",
       "      <td>...</td>\n",
       "      <td>...</td>\n",
       "      <td>...</td>\n",
       "      <td>...</td>\n",
       "      <td>...</td>\n",
       "    </tr>\n",
       "    <tr>\n",
       "      <th>203835</th>\n",
       "      <td>Vietnam</td>\n",
       "      <td>Other</td>\n",
       "      <td>14.058324</td>\n",
       "      <td>108.277199</td>\n",
       "      <td>1/18/22</td>\n",
       "      <td>2062128</td>\n",
       "    </tr>\n",
       "    <tr>\n",
       "      <th>203836</th>\n",
       "      <td>West Bank and Gaza</td>\n",
       "      <td>Other</td>\n",
       "      <td>31.952200</td>\n",
       "      <td>35.233200</td>\n",
       "      <td>1/18/22</td>\n",
       "      <td>477151</td>\n",
       "    </tr>\n",
       "    <tr>\n",
       "      <th>203837</th>\n",
       "      <td>Yemen</td>\n",
       "      <td>Other</td>\n",
       "      <td>15.552727</td>\n",
       "      <td>48.516388</td>\n",
       "      <td>1/18/22</td>\n",
       "      <td>10408</td>\n",
       "    </tr>\n",
       "    <tr>\n",
       "      <th>203838</th>\n",
       "      <td>Zambia</td>\n",
       "      <td>Other</td>\n",
       "      <td>-13.133897</td>\n",
       "      <td>27.849332</td>\n",
       "      <td>1/18/22</td>\n",
       "      <td>298032</td>\n",
       "    </tr>\n",
       "    <tr>\n",
       "      <th>203839</th>\n",
       "      <td>Zimbabwe</td>\n",
       "      <td>Other</td>\n",
       "      <td>-19.015438</td>\n",
       "      <td>29.154857</td>\n",
       "      <td>1/18/22</td>\n",
       "      <td>226460</td>\n",
       "    </tr>\n",
       "  </tbody>\n",
       "</table>\n",
       "<p>203840 rows × 6 columns</p>\n",
       "</div>"
      ],
      "text/plain": [
       "            Country/Region Province/State        Lat        Long     date  \\\n",
       "0              Afghanistan          Other  33.939110   67.709953  1/22/20   \n",
       "1                  Albania          Other  41.153300   20.168300  1/22/20   \n",
       "2                  Algeria          Other  28.033900    1.659600  1/22/20   \n",
       "3                  Andorra          Other  42.506300    1.521800  1/22/20   \n",
       "4                   Angola          Other -11.202700   17.873900  1/22/20   \n",
       "...                    ...            ...        ...         ...      ...   \n",
       "203835             Vietnam          Other  14.058324  108.277199  1/18/22   \n",
       "203836  West Bank and Gaza          Other  31.952200   35.233200  1/18/22   \n",
       "203837               Yemen          Other  15.552727   48.516388  1/18/22   \n",
       "203838              Zambia          Other -13.133897   27.849332  1/18/22   \n",
       "203839            Zimbabwe          Other -19.015438   29.154857  1/18/22   \n",
       "\n",
       "          cases  \n",
       "0             0  \n",
       "1             0  \n",
       "2             0  \n",
       "3             0  \n",
       "4             0  \n",
       "...         ...  \n",
       "203835  2062128  \n",
       "203836   477151  \n",
       "203837    10408  \n",
       "203838   298032  \n",
       "203839   226460  \n",
       "\n",
       "[203840 rows x 6 columns]"
      ]
     },
     "execution_count": 37,
     "metadata": {},
     "output_type": "execute_result"
    }
   ],
   "source": [
    "# Or alternatively, use melt() instead of unstack()\n",
    "test=pd.melt(confirmed_df,\n",
    "            id_vars=['Country/Region', 'Province/State','Lat', 'Long'],\n",
    "            var_name='date',\n",
    "            value_name='cases')\n",
    "test"
   ]
  },
  {
   "cell_type": "code",
   "execution_count": 38,
   "metadata": {
    "slideshow": {
     "slide_type": "skip"
    }
   },
   "outputs": [
    {
     "data": {
      "text/html": [
       "<div>\n",
       "<style scoped>\n",
       "    .dataframe tbody tr th:only-of-type {\n",
       "        vertical-align: middle;\n",
       "    }\n",
       "\n",
       "    .dataframe tbody tr th {\n",
       "        vertical-align: top;\n",
       "    }\n",
       "\n",
       "    .dataframe thead th {\n",
       "        text-align: right;\n",
       "    }\n",
       "</style>\n",
       "<table border=\"1\" class=\"dataframe\">\n",
       "  <thead>\n",
       "    <tr style=\"text-align: right;\">\n",
       "      <th></th>\n",
       "      <th>Province/State</th>\n",
       "      <th>Country/Region</th>\n",
       "      <th>Lat</th>\n",
       "      <th>Long</th>\n",
       "      <th>Date</th>\n",
       "      <th>Cases</th>\n",
       "      <th>Newcases</th>\n",
       "    </tr>\n",
       "  </thead>\n",
       "  <tbody>\n",
       "    <tr>\n",
       "      <th>690</th>\n",
       "      <td>Alberta</td>\n",
       "      <td>Canada</td>\n",
       "      <td>53.9333</td>\n",
       "      <td>-116.5765</td>\n",
       "      <td>2021-12-12</td>\n",
       "      <td>338428</td>\n",
       "      <td>0.0</td>\n",
       "    </tr>\n",
       "    <tr>\n",
       "      <th>691</th>\n",
       "      <td>Alberta</td>\n",
       "      <td>Canada</td>\n",
       "      <td>53.9333</td>\n",
       "      <td>-116.5765</td>\n",
       "      <td>2021-12-13</td>\n",
       "      <td>339291</td>\n",
       "      <td>863.0</td>\n",
       "    </tr>\n",
       "    <tr>\n",
       "      <th>692</th>\n",
       "      <td>Alberta</td>\n",
       "      <td>Canada</td>\n",
       "      <td>53.9333</td>\n",
       "      <td>-116.5765</td>\n",
       "      <td>2021-12-14</td>\n",
       "      <td>339541</td>\n",
       "      <td>250.0</td>\n",
       "    </tr>\n",
       "    <tr>\n",
       "      <th>693</th>\n",
       "      <td>Alberta</td>\n",
       "      <td>Canada</td>\n",
       "      <td>53.9333</td>\n",
       "      <td>-116.5765</td>\n",
       "      <td>2021-12-15</td>\n",
       "      <td>339997</td>\n",
       "      <td>456.0</td>\n",
       "    </tr>\n",
       "    <tr>\n",
       "      <th>694</th>\n",
       "      <td>Alberta</td>\n",
       "      <td>Canada</td>\n",
       "      <td>53.9333</td>\n",
       "      <td>-116.5765</td>\n",
       "      <td>2021-12-16</td>\n",
       "      <td>340470</td>\n",
       "      <td>473.0</td>\n",
       "    </tr>\n",
       "    <tr>\n",
       "      <th>695</th>\n",
       "      <td>Alberta</td>\n",
       "      <td>Canada</td>\n",
       "      <td>53.9333</td>\n",
       "      <td>-116.5765</td>\n",
       "      <td>2021-12-17</td>\n",
       "      <td>341023</td>\n",
       "      <td>553.0</td>\n",
       "    </tr>\n",
       "    <tr>\n",
       "      <th>696</th>\n",
       "      <td>Alberta</td>\n",
       "      <td>Canada</td>\n",
       "      <td>53.9333</td>\n",
       "      <td>-116.5765</td>\n",
       "      <td>2021-12-18</td>\n",
       "      <td>341023</td>\n",
       "      <td>0.0</td>\n",
       "    </tr>\n",
       "    <tr>\n",
       "      <th>697</th>\n",
       "      <td>Alberta</td>\n",
       "      <td>Canada</td>\n",
       "      <td>53.9333</td>\n",
       "      <td>-116.5765</td>\n",
       "      <td>2021-12-19</td>\n",
       "      <td>341023</td>\n",
       "      <td>0.0</td>\n",
       "    </tr>\n",
       "    <tr>\n",
       "      <th>698</th>\n",
       "      <td>Alberta</td>\n",
       "      <td>Canada</td>\n",
       "      <td>53.9333</td>\n",
       "      <td>-116.5765</td>\n",
       "      <td>2021-12-20</td>\n",
       "      <td>342948</td>\n",
       "      <td>1925.0</td>\n",
       "    </tr>\n",
       "    <tr>\n",
       "      <th>699</th>\n",
       "      <td>Alberta</td>\n",
       "      <td>Canada</td>\n",
       "      <td>53.9333</td>\n",
       "      <td>-116.5765</td>\n",
       "      <td>2021-12-21</td>\n",
       "      <td>343734</td>\n",
       "      <td>786.0</td>\n",
       "    </tr>\n",
       "  </tbody>\n",
       "</table>\n",
       "</div>"
      ],
      "text/plain": [
       "    Province/State Country/Region      Lat      Long       Date   Cases  \\\n",
       "690        Alberta         Canada  53.9333 -116.5765 2021-12-12  338428   \n",
       "691        Alberta         Canada  53.9333 -116.5765 2021-12-13  339291   \n",
       "692        Alberta         Canada  53.9333 -116.5765 2021-12-14  339541   \n",
       "693        Alberta         Canada  53.9333 -116.5765 2021-12-15  339997   \n",
       "694        Alberta         Canada  53.9333 -116.5765 2021-12-16  340470   \n",
       "695        Alberta         Canada  53.9333 -116.5765 2021-12-17  341023   \n",
       "696        Alberta         Canada  53.9333 -116.5765 2021-12-18  341023   \n",
       "697        Alberta         Canada  53.9333 -116.5765 2021-12-19  341023   \n",
       "698        Alberta         Canada  53.9333 -116.5765 2021-12-20  342948   \n",
       "699        Alberta         Canada  53.9333 -116.5765 2021-12-21  343734   \n",
       "\n",
       "     Newcases  \n",
       "690       0.0  \n",
       "691     863.0  \n",
       "692     250.0  \n",
       "693     456.0  \n",
       "694     473.0  \n",
       "695     553.0  \n",
       "696       0.0  \n",
       "697       0.0  \n",
       "698    1925.0  \n",
       "699     786.0  "
      ]
     },
     "execution_count": 38,
     "metadata": {},
     "output_type": "execute_result"
    }
   ],
   "source": [
    "#Calculate New cases from cases (which is cumulative cases)\n",
    "by_group = confirmed_cases.groupby(['Province/State','Country/Region'])\n",
    "confirmed_cases['Newcases'] = list(by_group.apply(lambda x: x['Cases']-x['Cases'].shift()))\n",
    "confirmed_cases['Newcases'].fillna(0, inplace = True)\n",
    "\n",
    "confirmed_cases['Date'] = confirmed_cases['Date'].apply(lambda x: dt.datetime.strptime(x,'%m/%d/%y') )\n",
    "\n",
    "\n",
    "confirmed_cases[690:700]\n",
    "\n",
    "#for i in confirmed_cases[550:600].iterrows(): print(i)"
   ]
  },
  {
   "cell_type": "markdown",
   "metadata": {
    "slideshow": {
     "slide_type": "slide"
    }
   },
   "source": [
    "# Confirmed cases (John Hopkins) - Pivoting the data\n",
    "- **Data wrangling**: dates are pivoted in such a way that they are now a dimension (as opposed to columns before)\n",
    "- **New calculation**: number of new cases is added"
   ]
  },
  {
   "cell_type": "code",
   "execution_count": 39,
   "metadata": {
    "slideshow": {
     "slide_type": "-"
    }
   },
   "outputs": [
    {
     "data": {
      "text/html": [
       "<div>\n",
       "<style scoped>\n",
       "    .dataframe tbody tr th:only-of-type {\n",
       "        vertical-align: middle;\n",
       "    }\n",
       "\n",
       "    .dataframe tbody tr th {\n",
       "        vertical-align: top;\n",
       "    }\n",
       "\n",
       "    .dataframe thead th {\n",
       "        text-align: right;\n",
       "    }\n",
       "</style>\n",
       "<table border=\"1\" class=\"dataframe\">\n",
       "  <thead>\n",
       "    <tr style=\"text-align: right;\">\n",
       "      <th></th>\n",
       "      <th>Province/State</th>\n",
       "      <th>Country/Region</th>\n",
       "      <th>Lat</th>\n",
       "      <th>Long</th>\n",
       "      <th>Date</th>\n",
       "      <th>Cases</th>\n",
       "      <th>Newcases</th>\n",
       "    </tr>\n",
       "  </thead>\n",
       "  <tbody>\n",
       "    <tr>\n",
       "      <th>84448</th>\n",
       "      <td>Other</td>\n",
       "      <td>France</td>\n",
       "      <td>46.2276</td>\n",
       "      <td>2.2137</td>\n",
       "      <td>2020-01-22</td>\n",
       "      <td>0</td>\n",
       "      <td>0.0</td>\n",
       "    </tr>\n",
       "    <tr>\n",
       "      <th>84449</th>\n",
       "      <td>Other</td>\n",
       "      <td>France</td>\n",
       "      <td>46.2276</td>\n",
       "      <td>2.2137</td>\n",
       "      <td>2020-01-23</td>\n",
       "      <td>0</td>\n",
       "      <td>0.0</td>\n",
       "    </tr>\n",
       "    <tr>\n",
       "      <th>84450</th>\n",
       "      <td>Other</td>\n",
       "      <td>France</td>\n",
       "      <td>46.2276</td>\n",
       "      <td>2.2137</td>\n",
       "      <td>2020-01-24</td>\n",
       "      <td>2</td>\n",
       "      <td>2.0</td>\n",
       "    </tr>\n",
       "    <tr>\n",
       "      <th>84451</th>\n",
       "      <td>Other</td>\n",
       "      <td>France</td>\n",
       "      <td>46.2276</td>\n",
       "      <td>2.2137</td>\n",
       "      <td>2020-01-25</td>\n",
       "      <td>3</td>\n",
       "      <td>1.0</td>\n",
       "    </tr>\n",
       "    <tr>\n",
       "      <th>84452</th>\n",
       "      <td>Other</td>\n",
       "      <td>France</td>\n",
       "      <td>46.2276</td>\n",
       "      <td>2.2137</td>\n",
       "      <td>2020-01-26</td>\n",
       "      <td>3</td>\n",
       "      <td>0.0</td>\n",
       "    </tr>\n",
       "    <tr>\n",
       "      <th>...</th>\n",
       "      <td>...</td>\n",
       "      <td>...</td>\n",
       "      <td>...</td>\n",
       "      <td>...</td>\n",
       "      <td>...</td>\n",
       "      <td>...</td>\n",
       "      <td>...</td>\n",
       "    </tr>\n",
       "    <tr>\n",
       "      <th>85171</th>\n",
       "      <td>Other</td>\n",
       "      <td>France</td>\n",
       "      <td>46.2276</td>\n",
       "      <td>2.2137</td>\n",
       "      <td>2022-01-14</td>\n",
       "      <td>13279505</td>\n",
       "      <td>322648.0</td>\n",
       "    </tr>\n",
       "    <tr>\n",
       "      <th>85172</th>\n",
       "      <td>Other</td>\n",
       "      <td>France</td>\n",
       "      <td>46.2276</td>\n",
       "      <td>2.2137</td>\n",
       "      <td>2022-01-15</td>\n",
       "      <td>13604085</td>\n",
       "      <td>324580.0</td>\n",
       "    </tr>\n",
       "    <tr>\n",
       "      <th>85173</th>\n",
       "      <td>Other</td>\n",
       "      <td>France</td>\n",
       "      <td>46.2276</td>\n",
       "      <td>2.2137</td>\n",
       "      <td>2022-01-16</td>\n",
       "      <td>13869172</td>\n",
       "      <td>265087.0</td>\n",
       "    </tr>\n",
       "    <tr>\n",
       "      <th>85174</th>\n",
       "      <td>Other</td>\n",
       "      <td>France</td>\n",
       "      <td>46.2276</td>\n",
       "      <td>2.2137</td>\n",
       "      <td>2022-01-17</td>\n",
       "      <td>13869172</td>\n",
       "      <td>0.0</td>\n",
       "    </tr>\n",
       "    <tr>\n",
       "      <th>85175</th>\n",
       "      <td>Other</td>\n",
       "      <td>France</td>\n",
       "      <td>46.2276</td>\n",
       "      <td>2.2137</td>\n",
       "      <td>2022-01-18</td>\n",
       "      <td>13865920</td>\n",
       "      <td>-3252.0</td>\n",
       "    </tr>\n",
       "  </tbody>\n",
       "</table>\n",
       "<p>728 rows × 7 columns</p>\n",
       "</div>"
      ],
      "text/plain": [
       "      Province/State Country/Region      Lat    Long       Date     Cases  \\\n",
       "84448          Other         France  46.2276  2.2137 2020-01-22         0   \n",
       "84449          Other         France  46.2276  2.2137 2020-01-23         0   \n",
       "84450          Other         France  46.2276  2.2137 2020-01-24         2   \n",
       "84451          Other         France  46.2276  2.2137 2020-01-25         3   \n",
       "84452          Other         France  46.2276  2.2137 2020-01-26         3   \n",
       "...              ...            ...      ...     ...        ...       ...   \n",
       "85171          Other         France  46.2276  2.2137 2022-01-14  13279505   \n",
       "85172          Other         France  46.2276  2.2137 2022-01-15  13604085   \n",
       "85173          Other         France  46.2276  2.2137 2022-01-16  13869172   \n",
       "85174          Other         France  46.2276  2.2137 2022-01-17  13869172   \n",
       "85175          Other         France  46.2276  2.2137 2022-01-18  13865920   \n",
       "\n",
       "       Newcases  \n",
       "84448       0.0  \n",
       "84449       0.0  \n",
       "84450       2.0  \n",
       "84451       1.0  \n",
       "84452       0.0  \n",
       "...         ...  \n",
       "85171  322648.0  \n",
       "85172  324580.0  \n",
       "85173  265087.0  \n",
       "85174       0.0  \n",
       "85175   -3252.0  \n",
       "\n",
       "[728 rows x 7 columns]"
      ]
     },
     "execution_count": 39,
     "metadata": {},
     "output_type": "execute_result"
    }
   ],
   "source": [
    "confirmed_cases[(confirmed_cases['Country/Region']== 'France') & (confirmed_cases['Province/State']== 'Other')]"
   ]
  },
  {
   "cell_type": "markdown",
   "metadata": {
    "slideshow": {
     "slide_type": "-"
    }
   },
   "source": [
    "**Notes**  \n",
    "Cases: means cumulative cases  \n",
    "New cases: means new daily cases (the delta between Cases on a given day and Cases on the day before)"
   ]
  },
  {
   "cell_type": "markdown",
   "metadata": {
    "slideshow": {
     "slide_type": "slide"
    }
   },
   "source": [
    "# France - New cases (John Hopkins)"
   ]
  },
  {
   "cell_type": "code",
   "execution_count": 40,
   "metadata": {
    "slideshow": {
     "slide_type": "skip"
    }
   },
   "outputs": [
    {
     "data": {
      "text/html": [
       "<div>\n",
       "<style scoped>\n",
       "    .dataframe tbody tr th:only-of-type {\n",
       "        vertical-align: middle;\n",
       "    }\n",
       "\n",
       "    .dataframe tbody tr th {\n",
       "        vertical-align: top;\n",
       "    }\n",
       "\n",
       "    .dataframe thead th {\n",
       "        text-align: right;\n",
       "    }\n",
       "</style>\n",
       "<table border=\"1\" class=\"dataframe\">\n",
       "  <thead>\n",
       "    <tr style=\"text-align: right;\">\n",
       "      <th></th>\n",
       "      <th>Date</th>\n",
       "      <th>Newcases</th>\n",
       "    </tr>\n",
       "  </thead>\n",
       "  <tbody>\n",
       "    <tr>\n",
       "      <th>0</th>\n",
       "      <td>2020-01-22</td>\n",
       "      <td>0.0</td>\n",
       "    </tr>\n",
       "    <tr>\n",
       "      <th>1</th>\n",
       "      <td>2020-01-23</td>\n",
       "      <td>0.0</td>\n",
       "    </tr>\n",
       "    <tr>\n",
       "      <th>2</th>\n",
       "      <td>2020-01-24</td>\n",
       "      <td>2.0</td>\n",
       "    </tr>\n",
       "    <tr>\n",
       "      <th>3</th>\n",
       "      <td>2020-01-25</td>\n",
       "      <td>1.0</td>\n",
       "    </tr>\n",
       "    <tr>\n",
       "      <th>4</th>\n",
       "      <td>2020-01-26</td>\n",
       "      <td>0.0</td>\n",
       "    </tr>\n",
       "    <tr>\n",
       "      <th>...</th>\n",
       "      <td>...</td>\n",
       "      <td>...</td>\n",
       "    </tr>\n",
       "    <tr>\n",
       "      <th>723</th>\n",
       "      <td>2022-01-14</td>\n",
       "      <td>322648.0</td>\n",
       "    </tr>\n",
       "    <tr>\n",
       "      <th>724</th>\n",
       "      <td>2022-01-15</td>\n",
       "      <td>324580.0</td>\n",
       "    </tr>\n",
       "    <tr>\n",
       "      <th>725</th>\n",
       "      <td>2022-01-16</td>\n",
       "      <td>265087.0</td>\n",
       "    </tr>\n",
       "    <tr>\n",
       "      <th>726</th>\n",
       "      <td>2022-01-17</td>\n",
       "      <td>0.0</td>\n",
       "    </tr>\n",
       "    <tr>\n",
       "      <th>727</th>\n",
       "      <td>2022-01-18</td>\n",
       "      <td>-3252.0</td>\n",
       "    </tr>\n",
       "  </tbody>\n",
       "</table>\n",
       "<p>728 rows × 2 columns</p>\n",
       "</div>"
      ],
      "text/plain": [
       "          Date  Newcases\n",
       "0   2020-01-22       0.0\n",
       "1   2020-01-23       0.0\n",
       "2   2020-01-24       2.0\n",
       "3   2020-01-25       1.0\n",
       "4   2020-01-26       0.0\n",
       "..         ...       ...\n",
       "723 2022-01-14  322648.0\n",
       "724 2022-01-15  324580.0\n",
       "725 2022-01-16  265087.0\n",
       "726 2022-01-17       0.0\n",
       "727 2022-01-18   -3252.0\n",
       "\n",
       "[728 rows x 2 columns]"
      ]
     },
     "execution_count": 40,
     "metadata": {},
     "output_type": "execute_result"
    }
   ],
   "source": [
    "c1 = confirmed_cases['Country/Region']=='France'\n",
    "c2 = confirmed_cases['Province/State']=='Other'\n",
    "z = confirmed_cases[c1 & c2]\n",
    "z = z.groupby('Date')[['Newcases']].sum().reset_index()\n",
    "z"
   ]
  },
  {
   "cell_type": "code",
   "execution_count": 41,
   "metadata": {},
   "outputs": [
    {
     "data": {
      "image/png": "[encoded data removed]",
      "text/plain": [
       "<Figure size 1008x432 with 1 Axes>"
      ]
     },
     "metadata": {
      "needs_background": "light"
     },
     "output_type": "display_data"
    }
   ],
   "source": [
    "c1 = confirmed_cases['Country/Region']=='France'\n",
    "c2 = confirmed_cases['Province/State']=='Other'\n",
    "z = confirmed_cases[c1 & c2]\n",
    "x = z['Date']\n",
    "x_values = x #[dt.datetime.strptime(x,'%m/%d/%y') for x in x]\n",
    "y = z['Newcases']\n",
    "\n",
    "fig, ax = plt.subplots(figsize = [14,6])\n",
    "\n",
    "ax.plot(x,y)\n",
    "\n",
    "plt.xlabel('Date')\n",
    "plt.ylabel('Daily new cases')\n",
    "\n",
    "plt.ylim(bottom=0)\n",
    "\n",
    "plt.show()"
   ]
  },
  {
   "cell_type": "markdown",
   "metadata": {
    "slideshow": {
     "slide_type": "fragment"
    }
   },
   "source": [
    "**Note**: 5 waves: Apr20, Oct20, Apr21, Aug21, Dec21"
   ]
  },
  {
   "cell_type": "markdown",
   "metadata": {
    "slideshow": {
     "slide_type": "skip"
    }
   },
   "source": [
    "# France - Cumulative Cases"
   ]
  },
  {
   "cell_type": "markdown",
   "metadata": {
    "slideshow": {
     "slide_type": "skip"
    }
   },
   "source": [
    "**Cumulative Cases**\n",
    "<!-- ![alt text](Assets/France_cumulcases.png) -->"
   ]
  },
  {
   "cell_type": "markdown",
   "metadata": {
    "slideshow": {
     "slide_type": "slide"
    }
   },
   "source": [
    "# France: incidence rate - validating covid19 open data (Google Cloud)"
   ]
  },
  {
   "cell_type": "markdown",
   "metadata": {
    "slideshow": {
     "slide_type": "-"
    }
   },
   "source": [
    "### Checking incidence rate: googlecloud (<font color='blue'>incidence_std</font>) with DataGouv/Sante France Publique - i.e. France's health national agency (<font color='orange'>incidence rate</font>) \n",
    "\n",
    "Incidence defined as: (100000 * daily new cases) / Population"
   ]
  },
  {
   "cell_type": "code",
   "execution_count": 42,
   "metadata": {},
   "outputs": [],
   "source": [
    "# Metadata / schema\n",
    "# pd.read_csv('https://www.data.gouv.fr/fr/datasets/r/a8b5931a-3aa7-4aec-a81b-8b3de628cf63')"
   ]
  },
  {
   "cell_type": "code",
   "execution_count": 43,
   "metadata": {},
   "outputs": [],
   "source": [
    "# Load data for the AU\n",
    "FR = pd.read_csv('https://storage.googleapis.com/covid19-open-data/v3/location/FR.csv')\n",
    "#vax = pd.read_csv('https://storage.googleapis.com/covid19-open-data/v3/vaccinations.csv')\n",
    "FR.date = FR.date.apply(lambda x: dt.datetime.strptime(x,'%Y-%m-%d') )\n",
    "FR['incidence_per_100K'] = FR['new_confirmed'].rolling(7).mean()/FR['population']*100_000\n",
    "FR['incidence_std_per_100K'] = (FR['new_confirmed']/FR['population'])*100_000\n",
    "#Setting index so that can merge the dataframes (with \"join\")\n",
    "FR.set_index('date', inplace=True)"
   ]
  },
  {
   "cell_type": "code",
   "execution_count": 46,
   "metadata": {},
   "outputs": [
    {
     "data": {
      "text/plain": [
       "Text(0, 0.5, 'Invidence rate per 100K')"
      ]
     },
     "execution_count": 46,
     "metadata": {},
     "output_type": "execute_result"
    },
    {
     "data": {
      "image/png": "[encoded data removed]",
      "text/plain": [
       "<Figure size 720x360 with 1 Axes>"
      ]
     },
     "metadata": {
      "needs_background": "light"
     },
     "output_type": "display_data"
    }
   ],
   "source": [
    "tx_std = pd.read_csv('https://www.data.gouv.fr/fr/datasets/r/59ad717b-b64e-4779-85f6-cd1b25b24703', sep=';')\n",
    "#display(tx_std.tail()))\n",
    "\n",
    "tx_std['jour'] = tx_std['jour'].apply(lambda x: (dt.datetime.strptime(x,'%Y-%m-%d')))\n",
    "tx_std = tx_std.rename(columns={\n",
    "    'fra':'country_code',\n",
    "    'tx_std':'incidence_rate',\n",
    "    'jour':'date'})\n",
    "\n",
    "tx_std =tx_std.merge(FR, how='left', on= ['country_code', 'date'])\n",
    "tx_std.set_index('date')[['incidence_rate','incidence_std_per_100K']].rolling(7).mean().plot(figsize=(10, 5), color=['orange','b'])\n",
    "plt.xlabel('')\n",
    "plt.ylabel('Invidence rate per 100K')\n"
   ]
  },
  {
   "cell_type": "markdown",
   "metadata": {
    "slideshow": {
     "slide_type": "-"
    }
   },
   "source": [
    "validated!"
   ]
  },
  {
   "cell_type": "markdown",
   "metadata": {
    "slideshow": {
     "slide_type": "skip"
    }
   },
   "source": [
    "#Alternatively, with incidence being calculated - instead of provided in dataset\n",
    "#https://www.data.gouv.fr/en/datasets/taux-dincidence-de-lepidemie-de-covid-19/\n",
    "#(100000 * nombre de cas positif) / Population\n",
    "ti_fr = pd.read_csv('https://www.data.gouv.fr/fr/datasets/r/57d44bd6-c9fd-424f-9a72-7834454f9e3c', sep=';')\n",
    "ti_fr = ti_fr.loc[ti_fr.cl_age90 == 0] #selection national data only (not area, province etc)\n",
    "ti_fr['jour'] = ti_fr['jour'].apply(lambda x: (dt.datetime.strptime(x,'%Y-%m-%d')))\n",
    "ti_fr['ti'] = ti_fr.P.rolling(7).mean() / ti_fr['pop'].iloc[0] *100_000\n",
    "\n",
    "ti_fr = ti_fr.rename(columns={\n",
    "    'fra':'country_code',\n",
    "    'ti':'incidence_official',\n",
    "    'jour':'date'})\n",
    "ti_fr.columns\n",
    "\n",
    "ti = ti_fr.merge(FR, how='left', on= ['country_code', 'date'])\n",
    "ti.set_index('date')[['incidence_official','incidence_per_100K']].plot(figsize=(15, 6))\n"
   ]
  },
  {
   "cell_type": "markdown",
   "metadata": {
    "slideshow": {
     "slide_type": "slide"
    }
   },
   "source": [
    "###  France: checking daily new cases - Googlecloud (<font color='blue'>new_confirmed</font>) vs. John Hopkins (<font color='orange'>Newcases</font>)"
   ]
  },
  {
   "cell_type": "code",
   "execution_count": 47,
   "metadata": {},
   "outputs": [
    {
     "data": {
      "text/plain": [
       "Text(0, 0.5, 'Daily new cases')"
      ]
     },
     "execution_count": 47,
     "metadata": {},
     "output_type": "execute_result"
    },
    {
     "data": {
      "image/png": "[encoded data removed]",
      "text/plain": [
       "<Figure size 720x360 with 1 Axes>"
      ]
     },
     "metadata": {
      "needs_background": "light"
     },
     "output_type": "display_data"
    }
   ],
   "source": [
    "z = confirmed_cases[c1 & c2]\n",
    "\n",
    "# # Load data for the AU\n",
    "# FR = pd.read_csv('https://storage.googleapis.com/covid19-open-data/v3/location/FR.csv')\n",
    "# #vax = pd.read_csv('https://storage.googleapis.com/covid19-open-data/v3/vaccinations.csv')\n",
    "# FR.date = FR.date.apply(lambda x: dt.datetime.strptime(x,'%Y-%m-%d') )\n",
    "# FR['incidence_per_100K'] = FR['new_confirmed'].rolling(7).mean()/FR['population']*100_000\n",
    "# FR['incidence_std_per_100K'] = (FR['new_confirmed']/FR['population'])*100_000\n",
    "# #Setting index so that can merge the dataframes (with \"join\")\n",
    "# FR.set_index('date', inplace=True)\n",
    "\n",
    "z = z.rename(columns={'Date':'date'})\n",
    "z.set_index('date', inplace=True)\n",
    "\n",
    "z.join(FR)[['new_confirmed', 'Newcases']].rolling(7).mean().plot(figsize=(10,5))\n",
    "#plt.xlim(left=0)\n",
    "plt.ylim(bottom=0)\n",
    "plt.xlabel('')\n",
    "plt.ylabel('Daily new cases')"
   ]
  },
  {
   "cell_type": "markdown",
   "metadata": {},
   "source": [
    "*validated*!"
   ]
  }
 ],
 "metadata": {
  "celltoolbar": "Slideshow",
  "kernelspec": {
   "display_name": "Python 3 (ipykernel)",
   "language": "python",
   "name": "python3"
  },
  "language_info": {
   "codemirror_mode": {
    "name": "ipython",
    "version": 3
   },
   "file_extension": ".py",
   "mimetype": "text/x-python",
   "name": "python",
   "nbconvert_exporter": "python",
   "pygments_lexer": "ipython3",
   "version": "3.9.7"
  }
 },
 "nbformat": 4,
 "nbformat_minor": 4
}
